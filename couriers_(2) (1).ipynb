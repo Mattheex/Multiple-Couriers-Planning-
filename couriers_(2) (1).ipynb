{
  "cells": [
    {
      "cell_type": "markdown",
      "metadata": {
        "id": "kF7WcrPJbuJX"
      },
      "source": [
        "\n",
        "# Modelling & solving the multiple couriers planning problem\n",
        "\n",
        "Matthieu Feraud and Marius Lesaulnier | Erasmus 2022 - 2023\n"
      ]
    },
    {
      "cell_type": "markdown",
      "metadata": {
        "id": "MHtB03EGcVd0"
      },
      "source": [
        "---"
      ]
    },
    {
      "cell_type": "markdown",
      "metadata": {
        "id": "kR561CQHbow-"
      },
      "source": [
        "## Installations and Imports"
      ]
    },
    {
      "cell_type": "code",
      "execution_count": 1259,
      "metadata": {
        "colab": {
          "base_uri": "https://localhost:8080/",
          "height": 35
        },
        "id": "_iQ7nW9POffX",
        "outputId": "9fd702e6-460a-4ae9-bc72-c9653cb9292d"
      },
      "outputs": [
        {
          "output_type": "execute_result",
          "data": {
            "text/plain": [
              "'\\n!pip3 install z3-solver\\n!pip3 install utils\\n!pip3 install gurobipy\\n'"
            ],
            "application/vnd.google.colaboratory.intrinsic+json": {
              "type": "string"
            }
          },
          "metadata": {},
          "execution_count": 1259
        }
      ],
      "source": [
        "'''\n",
        "!pip3 install z3-solver\n",
        "!pip3 install utils\n",
        "!pip3 install gurobipy\n",
        "'''"
      ]
    },
    {
      "cell_type": "code",
      "execution_count": 1260,
      "metadata": {
        "id": "GADbF_NbOI1c"
      },
      "outputs": [],
      "source": [
        "from os import scandir\n",
        "import csv\n",
        "import numpy as np\n",
        "from math import log2\n",
        "from z3 import *\n",
        "import time\n",
        "from gurobipy import Model, GRB, quicksum\n"
      ]
    },
    {
      "cell_type": "code",
      "execution_count": 1261,
      "metadata": {
        "id": "vAQ9Wlrjf4cY"
      },
      "outputs": [],
      "source": [
        "filespath = 'Instances/'\n",
        "data_list = []\n",
        "\n",
        "with scandir(filespath) as file_list:\n",
        "    for filename in file_list:\n",
        "        with open(filespath + filename.name) as f:\n",
        "            lines = f.readlines()\n",
        "\n",
        "            num_couriers = int(lines[0].strip())\n",
        "            num_items = int(lines[1].strip())\n",
        "            courier_loads = [int(i) for i in lines[2].strip().split()]\n",
        "            item_sizes = [int(i) for i in lines[3].strip().split()]\n",
        "            distance_matrix = [[int(j) for j in i.strip().split()] for i in lines[4:]]\n",
        "\n",
        "            data_list.append({\n",
        "                \"m\": num_couriers,\n",
        "                \"n\": num_items,\n",
        "                \"l\": courier_loads,\n",
        "                \"s\": item_sizes,\n",
        "                \"D\": distance_matrix\n",
        "            })"
      ]
    },
    {
      "cell_type": "code",
      "execution_count": 1262,
      "metadata": {
        "colab": {
          "base_uri": "https://localhost:8080/"
        },
        "id": "em655vW8fkKP",
        "outputId": "f5a86713-e2cf-4ef0-c45a-33f219527d13"
      },
      "outputs": [
        {
          "output_type": "stream",
          "name": "stdout",
          "text": [
            "id: 0 m: 2 n: 3 [0, 21, 86, 99]\n",
            "id: 1 m: 2 n: 6 [0, 3, 4, 5, 6, 6, 2]\n",
            "id: 2 m: 3 n: 7 [0, 3, 3, 6, 5, 6, 6, 2]\n",
            "id: 3 m: 6 n: 8 [0, 80, 131, 22, 41, 127, 87, 48, 113]\n",
            "id: 4 m: 6 n: 9 [0, 199, 119, 28, 179, 77, 145, 61, 123, 87]\n",
            "id: 5 m: 8 n: 10 [0, 56, 86, 87, 81, 128, 107, 163, 166, 98, 93]\n",
            "id: 6 m: 8 n: 10 [0, 56, 86, 77, 81, 128, 107, 154, 70, 93, 53]\n",
            "id: 7 m: 10 n: 13 [0, 49, 80, 59, 112, 79, 112, 187, 28, 47, 36, 69, 138, 54]\n",
            "id: 8 m: 10 n: 13 [0, 21, 86, 14, 84, 72, 24, 54, 83, 70, 8, 91, 42, 57]\n",
            "id: 9 m: 6 n: 17 [0, 20, 19, 28, 58, 48, 45, 32, 90, 61, 71, 59, 65, 46, 72, 51, 46, 66]\n",
            "id: 10 m: 3 n: 47 [0, 60, 141, 22, 41, 137, 77, 48, 92, 105, 113, 103, 82, 15, 79, 24, 98, 69, 82, 30, 105, 89, 57, 94, 75, 50, 127, 16, 36, 77, 57, 70, 51, 101, 88, 38, 83, 108, 81, 124, 54, 131, 99, 70, 112, 162, 94, 64]\n",
            "id: 11 m: 20 n: 47 [0, 59, 135, 21, 41, 132, 75, 48, 88, 102, 109, 101, 81, 15, 78, 24, 96, 67, 80, 30, 103, 87, 56, 93, 73, 49, 125, 15, 36, 76, 56, 68, 50, 98, 85, 37, 81, 106, 79, 121, 53, 127, 96, 68, 108, 158, 93, 62]\n",
            "id: 12 m: 20 n: 71 [0, 230, 242, 169, 186, 107, 97, 214, 143, 165, 140, 83, 136, 167, 235, 248, 84, 189, 141, 182, 157, 225, 47, 143, 201, 63, 163, 161, 172, 152, 174, 223, 154, 219, 222, 189, 121, 242, 247, 176, 79, 140, 95, 219, 226, 171, 62, 157, 108, 79, 99, 164, 181, 229, 158, 235, 122, 118, 115, 158, 117, 214, 161, 51, 165, 155, 180, 86, 195, 162, 210, 167]\n",
            "id: 13 m: 20 n: 95 [0, 48, 78, 67, 110, 77, 110, 180, 27, 45, 35, 67, 132, 51, 39, 59, 40, 49, 62, 66, 39, 16, 58, 60, 28, 44, 129, 32, 24, 56, 59, 8, 8, 114, 59, 40, 39, 94, 130, 101, 56, 15, 79, 44, 44, 39, 2, 53, 103, 95, 75, 42, 59, 28, 61, 33, 22, 36, 48, 22, 48, 43, 92, 59, 6, 35, 48, 109, 31, 48, 36, 22, 41, 67, 93, 87, 63, 10, 43, 58, 47, 63, 61, 55, 20, 66, 12, 6, 39, 60, 45, 81, 83, 24, 21, 8]\n",
            "id: 14 m: 20 n: 143 [0, 47, 68, 167, 65, 46, 131, 123, 118, 129, 85, 113, 83, 16, 52, 124, 56, 183, 82, 81, 13, 128, 117, 45, 142, 128, 119, 125, 132, 47, 65, 20, 30, 124, 135, 19, 60, 124, 103, 115, 20, 137, 41, 73, 42, 41, 94, 43, 112, 125, 181, 25, 111, 65, 50, 37, 143, 32, 65, 38, 133, 25, 137, 6, 72, 92, 51, 49, 91, 47, 59, 55, 119, 105, 69, 5, 61, 86, 35, 124, 46, 143, 8, 117, 1, 41, 51, 80, 53, 111, 26, 29, 97, 41, 37, 144, 103, 67, 58, 34, 139, 128, 159, 127, 23, 107, 12, 50, 121, 136, 68, 15, 141, 92, 80, 167, 45, 180, 79, 124, 69, 127, 72, 22, 52, 89, 97, 147, 111, 71, 66, 82, 111, 73, 40, 14, 96, 10, 65, 110, 98, 101, 117, 67]\n",
            "id: 15 m: 20 n: 143 [0, 83, 20, 84, 48, 83, 124, 100, 128, 54, 28, 59, 9, 29, 63, 88, 16, 89, 78, 77, 93, 85, 72, 78, 93, 6, 46, 47, 120, 167, 63, 84, 113, 130, 38, 179, 71, 69, 13, 53, 59, 56, 79, 62, 21, 75, 125, 85, 189, 82, 74, 44, 125, 133, 157, 104, 197, 83, 130, 104, 151, 12, 67, 97, 110, 104, 135, 89, 61, 84, 15, 105, 34, 91, 92, 167, 130, 42, 87, 22, 80, 129, 110, 73, 158, 89, 26, 40, 143, 121, 21, 74, 125, 82, 4, 94, 94, 166, 63, 121, 111, 85, 76, 78, 104, 78, 28, 59, 26, 34, 146, 64, 89, 53, 108, 183, 86, 43, 48, 130, 33, 76, 92, 69, 117, 115, 40, 97, 29, 66, 116, 8, 25, 118, 90, 103, 98, 88, 7, 139, 86, 86, 65, 58]\n",
            "id: 16 m: 20 n: 191 [0, 191, 115, 26, 172, 75, 140, 59, 116, 75, 152, 119, 126, 110, 95, 85, 46, 90, 94, 57, 220, 78, 30, 65, 150, 69, 89, 75, 76, 201, 16, 135, 58, 82, 204, 56, 52, 115, 79, 36, 68, 118, 66, 50, 46, 189, 78, 108, 69, 105, 25, 68, 71, 79, 140, 113, 186, 115, 99, 177, 95, 82, 71, 68, 140, 105, 107, 106, 79, 122, 111, 135, 145, 135, 110, 183, 79, 52, 128, 151, 148, 115, 70, 75, 89, 6, 47, 43, 134, 80, 95, 44, 78, 67, 168, 68, 102, 74, 64, 58, 47, 65, 66, 118, 33, 103, 119, 158, 87, 152, 156, 51, 88, 68, 78, 168, 146, 167, 35, 16, 109, 179, 122, 68, 124, 141, 109, 109, 102, 85, 142, 92, 114, 65, 103, 77, 119, 108, 86, 21, 140, 161, 50, 61, 106, 61, 20, 104, 144, 154, 40, 126, 85, 95, 143, 87, 105, 36, 128, 74, 100, 81, 54, 46, 132, 92, 84, 50, 69, 42, 61, 230, 125, 136, 60, 147, 116, 119, 87, 102, 192, 40, 185, 57, 45, 98, 43, 122, 95, 101, 96, 93]\n",
            "id: 17 m: 20 n: 215 [0, 81, 75, 30, 162, 25, 188, 190, 113, 134, 46, 48, 73, 33, 64, 165, 183, 2, 127, 33, 189, 131, 46, 104, 154, 54, 107, 93, 79, 60, 198, 18, 140, 151, 199, 78, 69, 74, 58, 93, 22, 98, 22, 163, 72, 131, 67, 151, 203, 189, 153, 62, 130, 120, 108, 53, 193, 85, 63, 71, 139, 111, 72, 59, 129, 105, 64, 48, 245, 98, 150, 138, 161, 179, 159, 185, 12, 42, 73, 58, 105, 43, 59, 200, 190, 71, 143, 27, 133, 104, 160, 142, 207, 61, 14, 180, 169, 74, 97, 86, 84, 185, 90, 49, 50, 84, 231, 160, 167, 68, 136, 108, 134, 154, 54, 156, 48, 177, 50, 42, 164, 165, 75, 28, 124, 54, 156, 198, 141, 18, 163, 127, 56, 142, 37, 131, 45, 116, 59, 58, 26, 89, 9, 70, 146, 58, 46, 172, 36, 60, 62, 46, 82, 139, 164, 182, 61, 54, 105, 208, 75, 23, 54, 115, 175, 112, 63, 63, 70, 160, 51, 70, 127, 67, 134, 132, 37, 82, 131, 68, 160, 235, 141, 61, 156, 43, 145, 136, 185, 71, 88, 91, 88, 22, 218, 157, 149, 62, 54, 169, 163, 43, 117, 138, 22, 138, 154, 195, 37, 102, 130, 149, 110, 40, 158, 103]\n",
            "id: 18 m: 20 n: 239 [0, 110, 127, 46, 111, 122, 123, 95, 116, 129, 57, 118, 136, 113, 49, 5, 82, 85, 7, 77, 32, 44, 84, 117, 153, 87, 99, 91, 79, 101, 170, 117, 45, 99, 85, 79, 97, 142, 29, 95, 124, 171, 95, 70, 111, 111, 110, 33, 119, 73, 34, 134, 155, 85, 70, 89, 23, 72, 75, 53, 56, 120, 78, 109, 55, 117, 66, 116, 165, 100, 73, 94, 117, 117, 42, 125, 114, 133, 85, 77, 68, 101, 95, 53, 96, 79, 122, 72, 144, 31, 51, 62, 163, 27, 130, 45, 145, 139, 92, 92, 87, 70, 144, 71, 81, 107, 136, 121, 98, 123, 137, 132, 121, 12, 72, 98, 20, 120, 72, 168, 98, 98, 101, 58, 68, 195, 93, 120, 41, 126, 40, 87, 65, 117, 86, 124, 112, 151, 130, 139, 86, 64, 89, 79, 121, 120, 111, 79, 72, 71, 79, 193, 89, 40, 76, 140, 55, 57, 57, 37, 62, 102, 78, 77, 81, 110, 210, 43, 185, 113, 155, 105, 59, 113, 127, 86, 78, 83, 92, 9, 98, 104, 76, 34, 128, 157, 77, 80, 60, 113, 187, 126, 59, 36, 108, 85, 78, 110, 116, 4, 102, 110, 69, 102, 134, 119, 102, 119, 34, 63, 50, 95, 88, 69, 103, 98, 73, 93, 155, 76, 96, 127, 20, 43, 99, 91, 82, 75, 91, 90, 71, 112, 93, 168, 77, 168, 94, 85, 99, 88]\n",
            "id: 19 m: 20 n: 287 [0, 69, 140, 173, 149, 33, 113, 109, 68, 120, 121, 20, 59, 51, 145, 46, 132, 93, 36, 84, 14, 16, 81, 156, 132, 31, 163, 86, 38, 26, 177, 179, 24, 51, 152, 38, 23, 128, 102, 86, 125, 121, 202, 139, 16, 24, 15, 185, 133, 83, 123, 23, 152, 143, 58, 149, 77, 94, 164, 97, 106, 77, 81, 75, 70, 118, 130, 78, 113, 214, 191, 106, 65, 55, 129, 41, 104, 58, 175, 65, 29, 93, 83, 34, 179, 110, 55, 41, 209, 112, 56, 171, 32, 126, 57, 69, 49, 34, 65, 132, 106, 33, 85, 144, 93, 32, 74, 14, 121, 141, 123, 121, 60, 118, 175, 52, 127, 101, 177, 143, 31, 34, 35, 58, 90, 70, 66, 31, 28, 49, 112, 33, 67, 81, 122, 164, 60, 51, 30, 127, 27, 202, 38, 123, 84, 132, 124, 114, 56, 79, 63, 146, 117, 4, 89, 127, 193, 230, 65, 115, 14, 17, 15, 18, 140, 33, 28, 84, 113, 85, 151, 100, 141, 77, 48, 100, 119, 62, 124, 105, 82, 28, 86, 136, 126, 149, 139, 69, 53, 96, 74, 17, 149, 120, 32, 18, 47, 111, 37, 102, 25, 137, 98, 141, 78, 96, 65, 72, 89, 53, 82, 77, 126, 33, 28, 67, 142, 119, 31, 116, 130, 184, 67, 140, 31, 209, 99, 31, 52, 45, 139, 76, 158, 52, 166, 62, 72, 43, 102, 212, 21, 138, 83, 85, 130, 25, 125, 133, 70, 58, 125, 33, 95, 142, 138, 119, 150, 188, 26, 157, 70, 148, 156, 102, 112, 143, 35, 98, 142, 51, 47, 128, 74, 70, 169, 126, 93, 39, 51, 119, 108, 127, 167, 148, 118, 60, 48, 86]\n"
          ]
        }
      ],
      "source": [
        "data_list = sorted(data_list, key=lambda x: x['m'] + x['n'])\n",
        "for i in range(20):\n",
        "  data = data_list[i]\n",
        "  m = data['m']  # num_couriers\n",
        "  n = data['n']  # num_items\n",
        "  print(\"id: \"+str(i)+\" m: \"+str(m), \"n: \"+str(n), data['D'][0])"
      ]
    },
    {
      "cell_type": "code",
      "execution_count": 1263,
      "metadata": {
        "id": "L-xJyn2Q0JoI"
      },
      "outputs": [],
      "source": [
        "data = data_list[8]\n",
        "m = data['m']  # num_couriers\n",
        "n = data['n']  # num_items\n",
        "l = data['l']  # courier_loads\n",
        "s = data['s']  # item_sizes\n",
        "D = data['D']  # distance_matrix"
      ]
    },
    {
      "cell_type": "markdown",
      "metadata": {
        "id": "LYn8TFkhYOau"
      },
      "source": [
        "## SAT MODEL"
      ]
    },
    {
      "cell_type": "markdown",
      "metadata": {
        "id": "CMmBSWmXbbsU"
      },
      "source": [
        "### Defining the decisions variables and constraints"
      ]
    },
    {
      "cell_type": "code",
      "execution_count": 1264,
      "metadata": {
        "id": "PyjNLQEmrfbI"
      },
      "outputs": [],
      "source": [
        "def define_decision_variables(num_couriers, num_items):\n",
        "    #These variables control the couriers’ movements and ensure that they follow the optimal path\n",
        "    x = [[Bool(f\"x_{i}_{j}\") for j in range(num_items+1)] for i in range(num_items+1)]\n",
        "    #These variables signal ’true’ when courier k is allocated to node i\n",
        "    v = [[Bool(f\"v_{i}_{k}\") for k in range(num_couriers)] for i in range(num_items)]\n",
        "\n",
        "    num_bits = int(log2(num_items))+1\n",
        "    #These variables purpose is to encode the sequence of node visits in binary notation\n",
        "    u = [[Bool(f\"u_{i}_{k}\") for k in range(num_bits)] for i in range(num_items)]\n",
        "    return x, v, u"
      ]
    },
    {
      "cell_type": "code",
      "execution_count": 1265,
      "metadata": {
        "id": "uMV_MNcCY8bZ"
      },
      "outputs": [],
      "source": [
        "def exactly_one(boolean_vars):\n",
        "    return And(AtMost(*boolean_vars, 1), AtLeast(*boolean_vars, 1))\n"
      ]
    },
    {
      "cell_type": "code",
      "execution_count": 1266,
      "metadata": {
        "id": "uNvPVf8Ytx3o"
      },
      "outputs": [],
      "source": [
        "def add_constraints(solver, x, v, u, num_couriers, num_items, max_loads, item_sizes, distance_matrix, max_distance):\n",
        "    # No route from itself to itself\n",
        "    solver.add([x[i][i] == False for i in range(num_items+1)])\n",
        "\n",
        "    # Each location must be visited exactly once\n",
        "    for i in range(num_items):\n",
        "        solver.add(exactly_one([x[i][j] for j in range(num_items+1)]))\n",
        "        solver.add(exactly_one([x[j][i] for j in range(num_items+1)]))\n",
        "\n",
        "    # At most num_couriers couriers can start from the origin and return to the origin\n",
        "    solver.add((Sum([x[num_items][j] for j in range(num_items)])== num_couriers))\n",
        "    solver.add((Sum([x[i][num_items] for i in range(num_items)])== num_couriers))\n",
        "\n",
        "    solver.add([[x[j][i] == False for i in range(num_items)] for j in range(num_items) if i < j and distance_matrix[i,j] == distance_matrix[j,i] ])\n",
        "\n",
        "    # If courier i goes from location j to location k, then courier i must also carry item j\n",
        "    solver.add([Implies(x[i][j], v[i][k] == v[j][k]) for k in range(num_couriers) for i in range(num_items) for j in range(num_items)])\n",
        "\n",
        "    # Each item must be carried by exactly one courier\n",
        "    for i in range(num_items):\n",
        "        solver.add(exactly_one([v[i][k] for k in range(num_couriers)]))\n",
        "\n",
        "    # The total size of items carried by each courier must not exceed the courier's max load\n",
        "    # PbLe to restrict the weighted sum of each items of each couriers to be less or equal to their max_loads\n",
        "    for k in range(num_couriers):\n",
        "        solver.add(PbLe([(v[i][k], item_sizes[i]) for i in range(num_items)], max_loads[k]))\n",
        "\n",
        "    # The total distance travelled by the couriers must not exceed the max distance\n",
        "    solver.add(PbLe([(x[i][j], distance_matrix[i, j]) for j in range(num_items+1) for i in range(num_items+1) if i!=j], max_distance-1))\n",
        "\n",
        "    # # Symmetry-breaking constraint: enforce a specific ordering of courier assignments\n",
        "    # for i in range(num_items):\n",
        "    #     solver.add([Implies(v[i][k2], v[i][k1]) for k1 in range(num_couriers) for k2 in range(num_couriers) if k1 > k2 and max_loads[k1]== max_loads[k2]])\n",
        "\n",
        "    # Symmetry-breaking constraint: If courier i goes from the origin to location j, then i must be less than j, order of node assignment\n",
        "    # solver.add([Implies(And(x[num_items][i],x[i][j]),i<j) for i in range(num_items) for j in range(num_items) if i!=j])\n",
        "\n",
        "    # Each courier must carry at least one item\n",
        "    solver.add([AtLeast(*[v[i][k] for i in range(num_items)], 1) for k in range(num_couriers)])\n",
        "\n"
      ]
    },
    {
      "cell_type": "markdown",
      "metadata": {
        "id": "klw1GGBIbf4P"
      },
      "source": [
        "### Formulating the Optimization Problem"
      ]
    },
    {
      "cell_type": "code",
      "execution_count": 1267,
      "metadata": {
        "id": "KnPBnvUIu_S8"
      },
      "outputs": [],
      "source": [
        "def define_problem(num_couriers, num_items, max_loads, item_sizes, distance_matrix, max_distance=None):\n",
        "    distance_matrix = np.array(distance_matrix)\n",
        "\n",
        "    if max_distance is None:\n",
        "        max_distance = int(np.sum(distance_matrix))\n",
        "\n",
        "    solver = Optimize()\n",
        "    # solver = SolverFor(\"QF_BV\")\n",
        "\n",
        "    x, v, u = define_decision_variables(num_couriers, num_items)\n",
        "\n",
        "    add_constraints(solver, x, v, u, num_couriers, num_items, max_loads, item_sizes, distance_matrix, max_distance)\n",
        "\n",
        "    total_distance = Sum([distance_matrix[i, j] * x[i][j] for j in range(num_items + 1) for i in range(num_items + 1) if i != j])\n",
        "    solver.minimize(total_distance)\n",
        "    return solver, x, v\n",
        "\n",
        "\n"
      ]
    },
    {
      "cell_type": "markdown",
      "metadata": {
        "id": "jRLwya47clat"
      },
      "source": [
        "### Interpreting and Displaying Optimization Results"
      ]
    },
    {
      "cell_type": "code",
      "execution_count": 1268,
      "metadata": {
        "id": "tp_kXS7Wx68A"
      },
      "outputs": [],
      "source": [
        "def handle_solution(solver, x, v, num_couriers, num_items, distance_matrix):\n",
        "    solver.set(\"timeout\", 60)  # timeout is in milliseconds\n",
        "    model = solver.model()\n",
        "    route_matrix = [[model.evaluate(x[i][j]) for j in range(num_items + 1)] for i in range(num_items + 1)]\n",
        "    item_courier_matrix = [[model.evaluate(v[i][k]) for k in range(num_couriers)] for i in range(num_items)]\n",
        "\n",
        "    num_nodes = len(route_matrix) - 1\n",
        "    routes = {}\n",
        "    courier_distance = {}\n",
        "\n",
        "    for k in range(num_couriers):\n",
        "      id_items_to_transport = []\n",
        "      for i in range(num_items):\n",
        "          if item_courier_matrix[i][k]:\n",
        "              id_items_to_transport.append(i+1)\n",
        "\n",
        "      courier_path = []\n",
        "      courier_total_distance = 0\n",
        "      current_node = num_nodes\n",
        "\n",
        "      courier_path.append(0)\n",
        "\n",
        "      for item in id_items_to_transport:\n",
        "          next_node = item - 1\n",
        "          courier_path.append(next_node+1)\n",
        "          courier_total_distance += distance_matrix[current_node][next_node]\n",
        "          current_node = next_node\n",
        "\n",
        "      courier_path.append(0)\n",
        "\n",
        "      # Calculate the distance from the last node to the origin node\n",
        "      courier_total_distance += distance_matrix[current_node][0]\n",
        "      if len(courier_path)>2:\n",
        "        routes[k+1] = courier_path\n",
        "        courier_distance[k+1] = courier_total_distance\n",
        "\n",
        "    total_distance=0\n",
        "\n",
        "    # Print the courier paths and distances\n",
        "    print(\"Courier Paths:\")\n",
        "    print(\"-\" * 60)\n",
        "    print(\"{:<10s} {:<30s} {:<15s}\".format(\"Courier\", \"Path\", \"Distance\"))\n",
        "    print(\"-\" * 60)\n",
        "    for courier_id, route in routes.items():\n",
        "        path_display = \" > \".join([str(node) for node in route])\n",
        "        distance_display = f\"{courier_distance[courier_id]:,}\"\n",
        "        total_distance += courier_distance[courier_id]\n",
        "\n",
        "        print(\"{:<10d} {:<30s} {:<15s}\".format(courier_id, path_display, distance_display))\n",
        "    print(\"-\" * 60)\n",
        "\n",
        "    print(\"Total distance:\", f\"{total_distance:,}\")\n",
        "    return total_distance\n"
      ]
    },
    {
      "cell_type": "markdown",
      "metadata": {
        "id": "z4ehNSsEd423"
      },
      "source": [
        "### Executing Item Assignment and Route Optimization for the SAT Model"
      ]
    },
    {
      "cell_type": "code",
      "execution_count": 1269,
      "metadata": {
        "id": "kgpziHiSx7P_"
      },
      "outputs": [],
      "source": [
        "def assign(num_couriers, num_items, max_loads, item_sizes, distance_matrix):\n",
        "    if sum(item_sizes) > sum(max_loads):\n",
        "        print(\"Total weight of all items surpasses possible weight transportable\")\n",
        "        return 0\n",
        "\n",
        "    remaining_time = 300\n",
        "    solver, x, v = define_problem(num_couriers, num_items, max_loads, item_sizes, distance_matrix)\n",
        "\n",
        "    if solver.check() == sat:\n",
        "        total_distance = handle_solution(solver, x, v, num_couriers, num_items, distance_matrix)\n",
        "        print(f\"Initial solution found with total distance: {total_distance}\")\n",
        "\n",
        "        while remaining_time > 0:\n",
        "            print(f\"Looking for solutions with total distance < {total_distance}\")\n",
        "            time_before = time.time()\n",
        "            solver, x, v = define_problem(num_couriers, num_items, max_loads, item_sizes, distance_matrix, total_distance)\n",
        "\n",
        "            if solver.check() == sat:\n",
        "                total_distance = handle_solution(solver, x, v, num_couriers, num_items, distance_matrix)\n",
        "                elapsed_time = time.time()-time_before\n",
        "                remaining_time -= elapsed_time\n",
        "                print(f\"Elapsed time: {elapsed_time:.2f} seconds\")\n",
        "                print(f\"Remaining time: {remaining_time:.2f} seconds\")\n",
        "            else:\n",
        "                print(\"No more solutions found.\")\n",
        "                break\n",
        "\n",
        "        if remaining_time <= 0:\n",
        "            print(\"Time limit exceeded\")\n",
        "        return 0\n",
        "    else:\n",
        "        print(\"Failed to find a solution\")\n",
        "        return 0\n"
      ]
    },
    {
      "cell_type": "code",
      "execution_count": 1270,
      "metadata": {
        "colab": {
          "base_uri": "https://localhost:8080/"
        },
        "id": "NuZFJTKwFLrW",
        "outputId": "2f92d28f-ddaa-4d24-9ebc-3f75f4e6fe43"
      },
      "outputs": [
        {
          "output_type": "stream",
          "name": "stdout",
          "text": [
            "Courier Paths:\n",
            "------------------------------------------------------------\n",
            "Courier    Path                           Distance       \n",
            "------------------------------------------------------------\n",
            "1          0 > 1 > 4 > 0                  85             \n",
            "2          0 > 6 > 9 > 0                  188            \n",
            "3          0 > 11 > 0                     57             \n",
            "4          0 > 8 > 13 > 0                 215            \n",
            "5          0 > 12 > 0                     213            \n",
            "6          0 > 10 > 0                     110            \n",
            "7          0 > 3 > 0                      119            \n",
            "8          0 > 2 > 0                      73             \n",
            "9          0 > 7 > 0                      84             \n",
            "10         0 > 5 > 0                      111            \n",
            "------------------------------------------------------------\n",
            "Total distance: 1,255\n",
            "Initial solution found with total distance: 1255\n",
            "Looking for solutions with total distance < 1255\n",
            "No more solutions found.\n"
          ]
        },
        {
          "output_type": "execute_result",
          "data": {
            "text/plain": [
              "0"
            ]
          },
          "metadata": {},
          "execution_count": 1270
        }
      ],
      "source": [
        "assign(m,n,l,s,D)"
      ]
    },
    {
      "cell_type": "markdown",
      "metadata": {
        "id": "fdw2yA3-bVSD"
      },
      "source": [
        "## MIP Model"
      ]
    },
    {
      "cell_type": "markdown",
      "metadata": {
        "id": "c-E127frdL7p"
      },
      "source": [
        "### Defining the constraints"
      ]
    },
    {
      "cell_type": "code",
      "execution_count": 1271,
      "metadata": {
        "id": "kDOKxZ6HdPGR"
      },
      "outputs": [],
      "source": [
        "# Function to add constraints to the model\n",
        "def add_constraints(mdl, num_items, num_couriers, Vertices, Items, Arcs, x, l, courier_assignment, aux_vars, item_loads, max_loads):\n",
        "\n",
        "    # Only one connection into point i\n",
        "    mdl.addConstrs(quicksum(x[i,j] for j in Vertices if j != i) == 1 for i in Items)\n",
        "\n",
        "    # Only one edge out of point i\n",
        "    mdl.addConstrs(quicksum(x[i,j] for i in Vertices if i != j) == 1 for j in Items)\n",
        "\n",
        "    # No more than \"num_couriers\" departures from the depot\n",
        "    mdl.addConstr(quicksum(x[0,j] for j in Items ) <= num_couriers )\n",
        "\n",
        "    # Same number of couriers leaving and arriving to the depot\n",
        "    mdl.addConstr(quicksum(x[0,j] for j in Items ) == quicksum(x[j,0] for j in Items ))\n",
        "\n",
        "    # Sub-tour elimination\n",
        "    mdl.addConstr(l[0] == 1)\n",
        "    mdl.addConstrs((l[i] + x[i,j]) <= (l[j] + num_items * (1 - x[i,j])) for i,j in Arcs if j!=0 )\n",
        "\n",
        "    # Constraints related to courier\n",
        "    for k in range(num_couriers):\n",
        "        mdl.addConstrs((aux_vars[i][k] <= courier_assignment[i][k]) for i in Items)\n",
        "        mdl.addConstrs((aux_vars[i][k] <= x[0,i]) for i in Items )\n",
        "        mdl.addConstrs((aux_vars[i][k] >= courier_assignment[i][k] + x[0,i] - 1 ) for i in Items )\n",
        "        mdl.addConstr(quicksum(aux_vars[i][k] for i in Items) <= 1 )\n",
        "\n",
        "        # If x[i,j] = True, i,j share the same courier\n",
        "        for i,j in Arcs:\n",
        "            if i!=0 and j!=0:\n",
        "                mdl.addConstr(x[i,j] + courier_assignment[i][k] - courier_assignment[j][k] <= 1 )\n",
        "                mdl.addConstr(x[i,j] - courier_assignment[i][k] + courier_assignment[j][k] <= 1 )\n",
        "\n",
        "    # Every item should be visited by exactly one courier\n",
        "    mdl.addConstrs(quicksum(courier_assignment[i][k] for k in range(num_couriers)) == 1 for i in Items)\n",
        "\n",
        "    # The total load of items served by each courier cannot exceed the courier's capacity\n",
        "    mdl.addConstrs(quicksum( item_loads[i-1] * courier_assignment[i][k] for i in Items) <= max_loads[k] for k in range(num_couriers))"
      ]
    },
    {
      "cell_type": "markdown",
      "metadata": {
        "id": "Y12BUJOMdQtp"
      },
      "source": [
        "### Creating the model"
      ]
    },
    {
      "cell_type": "code",
      "execution_count": 1272,
      "metadata": {
        "id": "ZheJ2F67dbh7"
      },
      "outputs": [],
      "source": [
        "# Function to create the Gurobi model\n",
        "def create_model(num_items, num_couriers, item_loads, item_sizes, distance_matrix):\n",
        "\n",
        "    Items = [i for i in range(1,num_items+1)]\n",
        "    # Define the set of vertices, including the depot\n",
        "    Vertices = [0] + Items\n",
        "    Arcs = [(i, j) for i in Vertices for j in Vertices if i != j]\n",
        "\n",
        "    Couriers_encoding = [i for i in range(num_couriers)]\n",
        "    courier_assignment = {}\n",
        "    aux_vars = {}\n",
        "\n",
        "    mdl = Model('VRP')\n",
        "\n",
        "    # Define variables\n",
        "    x = mdl.addVars(Arcs, vtype=GRB.BINARY)\n",
        "    l = mdl.addVars(Vertices, lb=0, ub=num_items, vtype=GRB.INTEGER)\n",
        "    for i in range(1,num_items+1):\n",
        "        courier_assignment[i] = mdl.addVars(Couriers_encoding, vtype=GRB.BINARY)\n",
        "        aux_vars[i] = mdl.addVars(Couriers_encoding, vtype=GRB.INTEGER)\n",
        "\n",
        "    # Objective function\n",
        "    mdl.modelSense = GRB.MINIMIZE\n",
        "    mdl.setObjective(quicksum(x[i, j] * distance_matrix[i, j] for (i, j) in Arcs))\n",
        "\n",
        "    # Constraints\n",
        "    add_constraints(mdl, num_items, num_couriers, Vertices, Items, Arcs, x, l, courier_assignment, aux_vars, item_loads, item_sizes)\n",
        "\n",
        "    # Solver settings\n",
        "    mdl.Params.TimeLimit = 300\n",
        "\n",
        "    return mdl, x, courier_assignment, Items, Vertices\n",
        "\n"
      ]
    },
    {
      "cell_type": "markdown",
      "metadata": {
        "id": "WW3GzT_3fZ7W"
      },
      "source": [
        "### Displaying the Optimization Results"
      ]
    },
    {
      "cell_type": "code",
      "execution_count": 1273,
      "metadata": {
        "id": "ZZDzeSOH7Eg-"
      },
      "outputs": [],
      "source": [
        "def handle_solution(mdl, x, courier_assignment, Items, Vertices, num_couriers):\n",
        "    tours = {}\n",
        "    for i in Items:\n",
        "        try:\n",
        "            x[(0, i)].x > 0.1\n",
        "        except AttributeError:\n",
        "            print(\"Total distance: N/A\")\n",
        "            break\n",
        "        if x[(0, i)].x > 0.9:\n",
        "            for k in range(num_couriers):\n",
        "                if int(str(courier_assignment[i][k])[-6:-4]) > 0:\n",
        "                    temp = k\n",
        "            temp += 1\n",
        "            tours[temp] = []\n",
        "            path = [0, i]\n",
        "            while i != 0:\n",
        "                j = i\n",
        "                for k in Vertices:\n",
        "                    if j != k and x[(j, k)].x > 0.9:\n",
        "                        path.append(k)\n",
        "                        i = k\n",
        "            tours[temp].append(path)\n",
        "\n",
        "    for key in tours.keys():\n",
        "        path_str = str(tours[key])\n",
        "        path_str = path_str.replace(\"[\", \"\")\n",
        "        path_str = path_str.replace(\"]\", \"\")\n",
        "        path_str = path_str.replace(\", \", \" > \")\n",
        "        tours[key] = path_str\n",
        "\n",
        "    tour_ids = [i for i in tours.keys()]\n",
        "    print(\"Planned Tours:\")\n",
        "\n",
        "    for tour_id in sorted(tour_ids):\n",
        "        print(\"Tour \" + str(tour_id) + \":\")\n",
        "        print(tours[tour_id])\n",
        "\n",
        "    print(\"---------------------------\")\n",
        "    try:\n",
        "        print(\"Total distance:\", int(mdl.ObjVal))\n",
        "    except OverflowError:\n",
        "        print(\"Total distance: N/A\")\n",
        "\n",
        "\n",
        "\n"
      ]
    },
    {
      "cell_type": "markdown",
      "metadata": {
        "id": "0Zx4DhwwfH3F"
      },
      "source": [
        "### Executing Item Assignment and Route Optimization for the MIP Model"
      ]
    },
    {
      "cell_type": "code",
      "execution_count": 1274,
      "metadata": {
        "id": "9euNUz_efDOp"
      },
      "outputs": [],
      "source": [
        "def assign(num_items, num_couriers, item_loads, max_loads, distance_matrix):\n",
        "\n",
        "    # Create distance matrix\n",
        "    Dist = np.array(distance_matrix)\n",
        "\n",
        "    # Create Gurobi model\n",
        "    mdl, x, courier_assignment, Items, Vertices = create_model(num_items, num_couriers, item_loads, max_loads, Dist)\n",
        "\n",
        "    # Optimize model\n",
        "    mdl.optimize()\n",
        "\n",
        "    # Print solution\n",
        "    handle_solution(mdl, x, courier_assignment, Items, Vertices, num_couriers)\n",
        "\n",
        "\n",
        "# assign(n, m, s, l, D)"
      ]
    }
  ],
  "metadata": {
    "colab": {
      "provenance": []
    },
    "kernelspec": {
      "display_name": "Python 3",
      "name": "python3"
    },
    "language_info": {
      "codemirror_mode": {
        "name": "ipython",
        "version": 3
      },
      "file_extension": ".py",
      "mimetype": "text/x-python",
      "name": "python",
      "nbconvert_exporter": "python",
      "pygments_lexer": "ipython3",
      "version": "3.8.14"
    },
    "vscode": {
      "interpreter": {
        "hash": "949777d72b0d2535278d3dc13498b2535136f6dfe0678499012e853ee9abcab1"
      }
    }
  },
  "nbformat": 4,
  "nbformat_minor": 0
}