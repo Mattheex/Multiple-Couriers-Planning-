{
  "nbformat": 4,
  "nbformat_minor": 0,
  "metadata": {
    "colab": {
      "provenance": []
    },
    "kernelspec": {
      "name": "python3",
      "display_name": "Python 3"
    },
    "language_info": {
      "name": "python"
    }
  },
  "cells": [
    {
      "cell_type": "code",
      "execution_count": 94,
      "metadata": {
        "id": "sw3iC8wZIhL8"
      },
      "outputs": [],
      "source": [
        "# !pip install z3-solver"
      ]
    },
    {
      "cell_type": "code",
      "source": [
        "# !pip install utils"
      ],
      "metadata": {
        "id": "4Ao7UtxsLjml"
      },
      "execution_count": 95,
      "outputs": []
    },
    {
      "cell_type": "code",
      "source": [
        "from itertools import combinations\n",
        "from z3 import *\n",
        "import utils\n",
        "import math"
      ],
      "metadata": {
        "id": "plrOLkqrLcUL"
      },
      "execution_count": 96,
      "outputs": []
    },
    {
      "cell_type": "markdown",
      "source": [
        "# Define problem parameters"
      ],
      "metadata": {
        "id": "C5jRk3vzLA2s"
      }
    },
    {
      "cell_type": "code",
      "source": [
        "v = 9\n",
        "items_size = [5,6,5,3,8,1,1,4]\n",
        "number_of_items = len(items_size)\n",
        "couriers_capacity = [15,7,5]\n",
        "number_of_couriers = len(couriers_capacity)\n",
        "# This line defines the distance matrix between each location point.\n",
        "distance = [[0 ,1 ,3 ,4 ,2 ,5 ,6 ,6 ,4 ,6],\n",
        "            [1 ,0 ,4 ,2 ,5 ,6 ,3 ,3 ,1 ,5],\n",
        "            [3 ,4 ,0 ,9 ,8 ,9 ,5 ,7 ,1 ,8],\n",
        "            [4 ,2 ,9 ,0 ,1 ,2 ,3 ,2 ,2 ,5],\n",
        "            [2 ,5 ,8 ,1 ,0 ,4 ,3 ,7 ,5 ,3],\n",
        "            [5 ,6 ,9 ,2 ,4 ,0 ,8 ,1 ,8 ,7],\n",
        "            [6 ,3 ,5 ,3 ,3 ,8 ,0 ,4 ,8 ,9],\n",
        "            [6 ,3 ,7 ,2 ,7 ,1 ,4 ,0 ,4 ,1],\n",
        "            [4 ,1 ,1 ,2 ,5 ,8 ,8 ,4 ,0 ,8],\n",
        "            [6 ,5 ,8 ,5 ,3 ,7 ,9 ,1 ,8 ,0]]\n",
        "            \n",
        "# represents whether an item is assigned to a courier\n",
        "items_assigned = [[Bool(f\"p_{i}_{j}\") for j in range(number_of_couriers)] for i in range(number_of_items)]\n",
        "length = [Int(f\"l_{i}\") for i in range(number_of_couriers)]\n",
        "\n",
        "s = Solver()"
      ],
      "metadata": {
        "id": "8lNGNJDRK42Z"
      },
      "execution_count": 97,
      "outputs": []
    },
    {
      "cell_type": "markdown",
      "source": [
        "## Each item is delivered by exactly one courier\n"
      ],
      "metadata": {
        "id": "D0N4til0Nd1Q"
      }
    },
    {
      "cell_type": "code",
      "source": [
        "def at_least_one(bool_vars):\n",
        "    return Or(bool_vars)\n",
        "\n",
        "def at_most_one(bool_vars):\n",
        "    return [Not(And(pair[0], pair[1])) for pair in combinations(bool_vars, 2)]\n",
        "\n",
        "def exactly_one(bool_vars):\n",
        "    return at_most_one(bool_vars) + [at_least_one(bool_vars)]"
      ],
      "metadata": {
        "id": "1cSCHJ5qLrDN"
      },
      "execution_count": 98,
      "outputs": []
    },
    {
      "cell_type": "code",
      "source": [
        "for item in range(number_of_items):\n",
        "      s.add(exactly_one([items_assigned[item][courier] for courier in range(number_of_couriers)]))\n",
        "s"
      ],
      "metadata": {
        "colab": {
          "base_uri": "https://localhost:8080/",
          "height": 86
        },
        "id": "o1xw_Z5nN6SB",
        "outputId": "a653722c-01df-499e-ba79-ad5f0653b1b1"
      },
      "execution_count": 99,
      "outputs": [
        {
          "output_type": "execute_result",
          "data": {
            "text/plain": [
              "[Not(And(p_0_0, p_0_1)),\n",
              " Not(And(p_0_0, p_0_2)),\n",
              " Not(And(p_0_1, p_0_2)),\n",
              " Or(p_0_0, p_0_1, p_0_2),\n",
              " Not(And(p_1_0, p_1_1)),\n",
              " Not(And(p_1_0, p_1_2)),\n",
              " Not(And(p_1_1, p_1_2)),\n",
              " Or(p_1_0, p_1_1, p_1_2),\n",
              " Not(And(p_2_0, p_2_1)),\n",
              " Not(And(p_2_0, p_2_2)),\n",
              " Not(And(p_2_1, p_2_2)),\n",
              " Or(p_2_0, p_2_1, p_2_2),\n",
              " Not(And(p_3_0, p_3_1)),\n",
              " Not(And(p_3_0, p_3_2)),\n",
              " Not(And(p_3_1, p_3_2)),\n",
              " Or(p_3_0, p_3_1, p_3_2),\n",
              " Not(And(p_4_0, p_4_1)),\n",
              " Not(And(p_4_0, p_4_2)),\n",
              " Not(And(p_4_1, p_4_2)),\n",
              " Or(p_4_0, p_4_1, p_4_2),\n",
              " Not(And(p_5_0, p_5_1)),\n",
              " Not(And(p_5_0, p_5_2)),\n",
              " Not(And(p_5_1, p_5_2)),\n",
              " Or(p_5_0, p_5_1, p_5_2),\n",
              " Not(And(p_6_0, p_6_1)),\n",
              " Not(And(p_6_0, p_6_2)),\n",
              " Not(And(p_6_1, p_6_2)),\n",
              " Or(p_6_0, p_6_1, p_6_2),\n",
              " Not(And(p_7_0, p_7_1)),\n",
              " Not(And(p_7_0, p_7_2)),\n",
              " Not(And(p_7_1, p_7_2)),\n",
              " Or(p_7_0, p_7_1, p_7_2)]"
            ],
            "text/html": [
              "[&not;(p_0_0 &and; p_0_1),\n",
              " &not;(p_0_0 &and; p_0_2),\n",
              " &not;(p_0_1 &and; p_0_2),\n",
              " p_0_0 &or; p_0_1 &or; p_0_2,\n",
              " &not;(p_1_0 &and; p_1_1),\n",
              " &not;(p_1_0 &and; p_1_2),\n",
              " &not;(p_1_1 &and; p_1_2),\n",
              " p_1_0 &or; p_1_1 &or; p_1_2,\n",
              " &not;(p_2_0 &and; p_2_1),\n",
              " &not;(p_2_0 &and; p_2_2),\n",
              " &not;(p_2_1 &and; p_2_2),\n",
              " p_2_0 &or; p_2_1 &or; p_2_2,\n",
              " &not;(p_3_0 &and; p_3_1),\n",
              " &not;(p_3_0 &and; p_3_2),\n",
              " &not;(p_3_1 &and; p_3_2),\n",
              " p_3_0 &or; p_3_1 &or; p_3_2,\n",
              " &not;(p_4_0 &and; p_4_1),\n",
              " &not;(p_4_0 &and; p_4_2),\n",
              " &not;(p_4_1 &and; p_4_2),\n",
              " p_4_0 &or; p_4_1 &or; p_4_2,\n",
              " &not;(p_5_0 &and; p_5_1),\n",
              " &not;(p_5_0 &and; p_5_2),\n",
              " &not;(p_5_1 &and; p_5_2),\n",
              " p_5_0 &or; p_5_1 &or; p_5_2,\n",
              " &not;(p_6_0 &and; p_6_1),\n",
              " &not;(p_6_0 &and; p_6_2),\n",
              " &not;(p_6_1 &and; p_6_2),\n",
              " p_6_0 &or; p_6_1 &or; p_6_2,\n",
              " &not;(p_7_0 &and; p_7_1),\n",
              " &not;(p_7_0 &and; p_7_2),\n",
              " &not;(p_7_1 &and; p_7_2),\n",
              " p_7_0 &or; p_7_1 &or; p_7_2]"
            ]
          },
          "metadata": {},
          "execution_count": 99
        }
      ]
    },
    {
      "cell_type": "markdown",
      "source": [
        "## Each courier delivers no more items than their capacity.\n",
        "\n",
        "\n"
      ],
      "metadata": {
        "id": "XarZiCYLXrmw"
      }
    },
    {
      "cell_type": "code",
      "source": [
        "def at_most_k_np(bool_vars, k):\n",
        "    return And([Or([Not(x) for x in X]) for X in combinations(bool_vars, k + 1)])"
      ],
      "metadata": {
        "id": "RH8yfkURXvoT"
      },
      "execution_count": 100,
      "outputs": []
    },
    {
      "cell_type": "code",
      "source": [
        "def at_most_k_np_with_sizes(bool_vars, size_vars, k):\n",
        "   clauses = []\n",
        "   for i in range(len(bool_vars)):\n",
        "      for combination in combinations(range(len(bool_vars)), i+1):\n",
        "         total_size = Sum([size_vars[j] for j in combination])\n",
        "         if i+1 > k or total_size > k:\n",
        "            clauses.append(Or([Not(bool_vars[j]) for j in combination]))\n",
        "   return And(clauses)\n"
      ],
      "metadata": {
        "id": "c4RleGXYntxV"
      },
      "execution_count": 101,
      "outputs": []
    },
    {
      "cell_type": "code",
      "source": [
        "for item in range(number_of_items):\n",
        "   for courier in range(number_of_couriers):\n",
        "    #  at_most_k_np probleme ici on ne prends pas en compte le poids de chaque item mais l'item en lui même. Exemple si un coursier à une capacité de 10, et que il y a deux item respectivement de poids 5 et 6, ici la clause sera vide car le solver la considerera tlt vrai car il ne prends pas en compte le poids de chaque item et ici 2<10, hors c'est 11 \n",
        "      s.add(at_most_k_np_with_sizes([items_assigned[item][courier]], [items_size[item]],couriers_capacity[courier]))\n",
        "s"
      ],
      "metadata": {
        "colab": {
          "base_uri": "https://localhost:8080/",
          "height": 86
        },
        "id": "q5x6RlIUX6KT",
        "outputId": "fd648af1-45f2-4f82-f40d-7e7104ba7012"
      },
      "execution_count": 102,
      "outputs": [
        {
          "output_type": "execute_result",
          "data": {
            "text/plain": [
              "[Not(And(p_0_0, p_0_1)),\n",
              " Not(And(p_0_0, p_0_2)),\n",
              " Not(And(p_0_1, p_0_2)),\n",
              " Or(p_0_0, p_0_1, p_0_2),\n",
              " Not(And(p_1_0, p_1_1)),\n",
              " Not(And(p_1_0, p_1_2)),\n",
              " Not(And(p_1_1, p_1_2)),\n",
              " Or(p_1_0, p_1_1, p_1_2),\n",
              " Not(And(p_2_0, p_2_1)),\n",
              " Not(And(p_2_0, p_2_2)),\n",
              " Not(And(p_2_1, p_2_2)),\n",
              " Or(p_2_0, p_2_1, p_2_2),\n",
              " Not(And(p_3_0, p_3_1)),\n",
              " Not(And(p_3_0, p_3_2)),\n",
              " Not(And(p_3_1, p_3_2)),\n",
              " Or(p_3_0, p_3_1, p_3_2),\n",
              " Not(And(p_4_0, p_4_1)),\n",
              " Not(And(p_4_0, p_4_2)),\n",
              " Not(And(p_4_1, p_4_2)),\n",
              " Or(p_4_0, p_4_1, p_4_2),\n",
              " Not(And(p_5_0, p_5_1)),\n",
              " Not(And(p_5_0, p_5_2)),\n",
              " Not(And(p_5_1, p_5_2)),\n",
              " Or(p_5_0, p_5_1, p_5_2),\n",
              " Not(And(p_6_0, p_6_1)),\n",
              " Not(And(p_6_0, p_6_2)),\n",
              " Not(And(p_6_1, p_6_2)),\n",
              " Or(p_6_0, p_6_1, p_6_2),\n",
              " Not(And(p_7_0, p_7_1)),\n",
              " Not(And(p_7_0, p_7_2)),\n",
              " Not(And(p_7_1, p_7_2)),\n",
              " Or(p_7_0, p_7_1, p_7_2),\n",
              " And,\n",
              " And,\n",
              " And,\n",
              " And,\n",
              " And,\n",
              " And(Or(Not(p_1_2))),\n",
              " And,\n",
              " And,\n",
              " And,\n",
              " And,\n",
              " And,\n",
              " And,\n",
              " And,\n",
              " And(Or(Not(p_4_1))),\n",
              " And(Or(Not(p_4_2))),\n",
              " And,\n",
              " And,\n",
              " And,\n",
              " And,\n",
              " And,\n",
              " And,\n",
              " And,\n",
              " And,\n",
              " And]"
            ],
            "text/html": [
              "[&not;(p_0_0 &and; p_0_1),\n",
              " &not;(p_0_0 &and; p_0_2),\n",
              " &not;(p_0_1 &and; p_0_2),\n",
              " p_0_0 &or; p_0_1 &or; p_0_2,\n",
              " &not;(p_1_0 &and; p_1_1),\n",
              " &not;(p_1_0 &and; p_1_2),\n",
              " &not;(p_1_1 &and; p_1_2),\n",
              " p_1_0 &or; p_1_1 &or; p_1_2,\n",
              " &not;(p_2_0 &and; p_2_1),\n",
              " &not;(p_2_0 &and; p_2_2),\n",
              " &not;(p_2_1 &and; p_2_2),\n",
              " p_2_0 &or; p_2_1 &or; p_2_2,\n",
              " &not;(p_3_0 &and; p_3_1),\n",
              " &not;(p_3_0 &and; p_3_2),\n",
              " &not;(p_3_1 &and; p_3_2),\n",
              " p_3_0 &or; p_3_1 &or; p_3_2,\n",
              " &not;(p_4_0 &and; p_4_1),\n",
              " &not;(p_4_0 &and; p_4_2),\n",
              " &not;(p_4_1 &and; p_4_2),\n",
              " p_4_0 &or; p_4_1 &or; p_4_2,\n",
              " &not;(p_5_0 &and; p_5_1),\n",
              " &not;(p_5_0 &and; p_5_2),\n",
              " &not;(p_5_1 &and; p_5_2),\n",
              " p_5_0 &or; p_5_1 &or; p_5_2,\n",
              " &not;(p_6_0 &and; p_6_1),\n",
              " &not;(p_6_0 &and; p_6_2),\n",
              " &not;(p_6_1 &and; p_6_2),\n",
              " p_6_0 &or; p_6_1 &or; p_6_2,\n",
              " &not;(p_7_0 &and; p_7_1),\n",
              " &not;(p_7_0 &and; p_7_2),\n",
              " &not;(p_7_1 &and; p_7_2),\n",
              " p_7_0 &or; p_7_1 &or; p_7_2,\n",
              " &and;,\n",
              " &and;,\n",
              " &and;,\n",
              " &and;,\n",
              " &and;,\n",
              " (&not;p_1_2),\n",
              " &and;,\n",
              " &and;,\n",
              " &and;,\n",
              " &and;,\n",
              " &and;,\n",
              " &and;,\n",
              " &and;,\n",
              " (&not;p_4_1),\n",
              " (&not;p_4_2),\n",
              " &and;,\n",
              " &and;,\n",
              " &and;,\n",
              " &and;,\n",
              " &and;,\n",
              " &and;,\n",
              " &and;,\n",
              " &and;,\n",
              " &and;]"
            ]
          },
          "metadata": {},
          "execution_count": 102
        }
      ]
    },
    {
      "cell_type": "markdown",
      "source": [
        "## Calculates the length of the path for each courier and sets the corresponding length variable to that value"
      ],
      "metadata": {
        "id": "WnlIbkuwYxxG"
      }
    },
    {
      "cell_type": "code",
      "source": [],
      "metadata": {
        "id": "ewmkJaMdY9OO"
      },
      "execution_count": 102,
      "outputs": []
    },
    {
      "cell_type": "code",
      "source": [
        "if s.check() == sat:\n",
        "    m = s.model()\n",
        "    print(couriers_capacity)\n",
        "    for c in range(number_of_couriers):\n",
        "      for i in range(number_of_items):\n",
        "        if m.evaluate(items_assigned[i][c]):\n",
        "          print(f\"item {i} is delivered by {c}, it has a size of: {items_size[i]}\")\n",
        "else:\n",
        "    print(\"unsat\")"
      ],
      "metadata": {
        "colab": {
          "base_uri": "https://localhost:8080/"
        },
        "id": "nNR1Vr4ybcWG",
        "outputId": "8f63ed19-58c1-4a15-d820-1d45e5f8da87"
      },
      "execution_count": 103,
      "outputs": [
        {
          "output_type": "stream",
          "name": "stdout",
          "text": [
            "[15, 7, 5]\n",
            "item 0 is delivered by 0, it has a size of: 5\n",
            "item 1 is delivered by 0, it has a size of: 6\n",
            "item 2 is delivered by 0, it has a size of: 5\n",
            "item 3 is delivered by 0, it has a size of: 3\n",
            "item 4 is delivered by 0, it has a size of: 8\n",
            "item 5 is delivered by 0, it has a size of: 1\n",
            "item 7 is delivered by 0, it has a size of: 4\n",
            "item 6 is delivered by 1, it has a size of: 1\n"
          ]
        }
      ]
    }
  ]
}