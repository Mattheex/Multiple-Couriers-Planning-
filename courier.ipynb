{
  "nbformat": 4,
  "nbformat_minor": 0,
  "metadata": {
    "colab": {
      "provenance": []
    },
    "kernelspec": {
      "name": "python3",
      "display_name": "Python 3"
    },
    "language_info": {
      "name": "python"
    }
  },
  "cells": [
    {
      "cell_type": "code",
      "execution_count": 42,
      "metadata": {
        "colab": {
          "base_uri": "https://localhost:8080/"
        },
        "id": "sw3iC8wZIhL8",
        "outputId": "a3ec3eef-c0d0-4b73-b7c3-00c424c2f175"
      },
      "outputs": [
        {
          "output_type": "stream",
          "name": "stdout",
          "text": [
            "Looking in indexes: https://pypi.org/simple, https://us-python.pkg.dev/colab-wheels/public/simple/\n",
            "Requirement already satisfied: z3-solver in /usr/local/lib/python3.9/dist-packages (4.12.1.0)\n"
          ]
        }
      ],
      "source": [
        "!pip install z3-solver"
      ]
    },
    {
      "cell_type": "code",
      "source": [
        "!pip install utils"
      ],
      "metadata": {
        "colab": {
          "base_uri": "https://localhost:8080/"
        },
        "id": "4Ao7UtxsLjml",
        "outputId": "95067b19-1ad4-4fdb-a382-e961d8530289"
      },
      "execution_count": 43,
      "outputs": [
        {
          "output_type": "stream",
          "name": "stdout",
          "text": [
            "Looking in indexes: https://pypi.org/simple, https://us-python.pkg.dev/colab-wheels/public/simple/\n",
            "Requirement already satisfied: utils in /usr/local/lib/python3.9/dist-packages (1.0.1)\n"
          ]
        }
      ]
    },
    {
      "cell_type": "code",
      "source": [
        "from itertools import combinations\n",
        "from z3 import *\n",
        "import utils\n",
        "import math"
      ],
      "metadata": {
        "id": "plrOLkqrLcUL"
      },
      "execution_count": 44,
      "outputs": []
    },
    {
      "cell_type": "markdown",
      "source": [
        "# Define problem parameters"
      ],
      "metadata": {
        "id": "C5jRk3vzLA2s"
      }
    },
    {
      "cell_type": "code",
      "source": [
        "v = 9\n",
        "items = [5,6,5,3,8,1,1,4]\n",
        "numberOfItems = len(items)\n",
        "couriers = [15,7,5]\n",
        "numberOfCouriers = len(couriers)\n",
        "distance = [[0 ,1 ,3 ,4 ,2 ,5 ,6 ,6 ,4 ,6],\n",
        "            [1 ,0 ,4 ,2 ,5 ,6 ,3 ,3 ,1 ,5],\n",
        "            [3 ,4 ,0 ,9 ,8 ,9 ,5 ,7 ,1 ,8],\n",
        "            [4 ,2 ,9 ,0 ,1 ,2 ,3 ,2 ,2 ,5],\n",
        "            [2 ,5 ,8 ,1 ,0 ,4 ,3 ,7 ,5 ,3],\n",
        "            [5 ,6 ,9 ,2 ,4 ,0 ,8 ,1 ,8 ,7],\n",
        "            [6 ,3 ,5 ,3 ,3 ,8 ,0 ,4 ,8 ,9],\n",
        "            [6 ,3 ,7 ,2 ,7 ,1 ,4 ,0 ,4 ,1],\n",
        "            [4 ,1 ,1 ,2 ,5 ,8 ,8 ,4 ,0 ,8],\n",
        "            [6 ,5 ,8 ,5 ,3 ,7 ,9 ,1 ,8 ,0]]\n",
        "# represents whether an item is assigned to a courier\n",
        "path = [[Bool(f\"p_{i}_{j}\") for j in range(numberOfCouriers)] for i in range(numberOfItems)]\n",
        "length = [Int(f\"l_{i}\") for i in range(numberOfCouriers)]\n",
        "\n",
        "s = Solver()"
      ],
      "metadata": {
        "id": "8lNGNJDRK42Z"
      },
      "execution_count": 45,
      "outputs": []
    },
    {
      "cell_type": "markdown",
      "source": [
        "## Each item is delivered by exactly one courier\n"
      ],
      "metadata": {
        "id": "D0N4til0Nd1Q"
      }
    },
    {
      "cell_type": "code",
      "source": [
        "def at_least_one(bool_vars):\n",
        "    return Or(bool_vars)\n",
        "\n",
        "def at_most_one(bool_vars):\n",
        "    return [Not(And(pair[0], pair[1])) for pair in combinations(bool_vars, 2)]\n",
        "\n",
        "def exactly_one(bool_vars):\n",
        "    return at_most_one(bool_vars) + [at_least_one(bool_vars)]"
      ],
      "metadata": {
        "id": "1cSCHJ5qLrDN"
      },
      "execution_count": 46,
      "outputs": []
    },
    {
      "cell_type": "code",
      "source": [
        "for item in range(numberOfItems):\n",
        "      s.add(exactly_one([path[item][courier] for courier in range(numberOfCouriers)]))"
      ],
      "metadata": {
        "id": "o1xw_Z5nN6SB"
      },
      "execution_count": 47,
      "outputs": []
    },
    {
      "cell_type": "markdown",
      "source": [
        "## Each courier delivers no more items than their capacity.\n"
      ],
      "metadata": {
        "id": "XarZiCYLXrmw"
      }
    },
    {
      "cell_type": "code",
      "source": [
        "def at_most_k_np(bool_vars, k):\n",
        "    return And([Or([Not(x) for x in X]) for X in combinations(bool_vars, k + 1)])"
      ],
      "metadata": {
        "id": "RH8yfkURXvoT"
      },
      "execution_count": 48,
      "outputs": []
    },
    {
      "cell_type": "code",
      "source": [
        "for item in range(numberOfItems):\n",
        "   for courier in range(numberOfCouriers):\n",
        "      s.add(at_most_k_np([path[item][courier]],couriers[courier]))"
      ],
      "metadata": {
        "id": "q5x6RlIUX6KT"
      },
      "execution_count": 49,
      "outputs": []
    },
    {
      "cell_type": "markdown",
      "source": [
        "## Calculates the length of the path for each courier and sets the corresponding length variable to that value"
      ],
      "metadata": {
        "id": "WnlIbkuwYxxG"
      }
    },
    {
      "cell_type": "code",
      "source": [],
      "metadata": {
        "id": "ewmkJaMdY9OO"
      },
      "execution_count": 49,
      "outputs": []
    },
    {
      "cell_type": "code",
      "source": [
        "if s.check() == sat:\n",
        "    m = s.model()\n",
        "    print(couriers)\n",
        "    for c in range(numberOfCouriers):\n",
        "      for i in range(numberOfItems):\n",
        "        if m.evaluate(path[i][c]):\n",
        "          print(f\"item {i} is delivered by {c}\")\n",
        "      \n",
        "else:\n",
        "    print(\"unsat\")"
      ],
      "metadata": {
        "colab": {
          "base_uri": "https://localhost:8080/"
        },
        "id": "nNR1Vr4ybcWG",
        "outputId": "4509030e-35a1-48c7-9d58-99a7cb1816bf"
      },
      "execution_count": 51,
      "outputs": [
        {
          "output_type": "stream",
          "name": "stdout",
          "text": [
            "[15, 7, 5]\n",
            "item 0 is delivered by 0\n",
            "item 1 is delivered by 0\n",
            "item 2 is delivered by 0\n",
            "item 3 is delivered by 0\n",
            "item 4 is delivered by 0\n",
            "item 5 is delivered by 0\n",
            "item 7 is delivered by 0\n",
            "item 6 is delivered by 1\n"
          ]
        }
      ]
    }
  ]
}