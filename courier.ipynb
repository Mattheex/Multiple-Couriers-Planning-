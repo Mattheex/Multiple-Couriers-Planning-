{
 "cells": [
  {
   "cell_type": "markdown",
   "source": [
    "\n",
    "# Modelling & solving the multiple couriers planning problem\n",
    "\n",
    "Matthieu Feraud and Marius Lesaulnier | Erasmus 2022 - 2023\n"
   ],
   "metadata": {
    "id": "kF7WcrPJbuJX"
   }
  },
  {
   "cell_type": "markdown",
   "source": [
    "---"
   ],
   "metadata": {
    "id": "MHtB03EGcVd0"
   }
  },
  {
   "cell_type": "markdown",
   "source": [
    "## Installations and Imports"
   ],
   "metadata": {
    "id": "kR561CQHbow-"
   }
  },
  {
   "cell_type": "code",
   "source": [
    "'''\n",
    "!pip3 install z3-solver\n",
    "!pip3 install utils\n",
    "!pip3 install gurobipy\n",
    "'''"
   ],
   "metadata": {
    "colab": {
     "base_uri": "https://localhost:8080/",
     "height": 35
    },
    "id": "_iQ7nW9POffX",
    "outputId": "491e5a99-45dc-453c-dc25-59d685f21d8a"
   },
   "execution_count": 478,
   "outputs": [
    {
     "output_type": "execute_result",
     "data": {
      "text/plain": [
       "'\\n!pip3 install z3-solver\\n!pip3 install utils\\n!pip3 install gurobipy\\n'"
      ],
      "application/vnd.google.colaboratory.intrinsic+json": {
       "type": "string"
      }
     },
     "metadata": {},
     "execution_count": 478
    }
   ]
  },
  {
   "cell_type": "code",
   "execution_count": 100,
   "metadata": {
    "id": "GADbF_NbOI1c",
    "ExecuteTime": {
     "end_time": "2023-07-09T13:43:38.233943600Z",
     "start_time": "2023-07-09T13:43:38.126885600Z"
    }
   },
   "outputs": [],
   "source": [
    "import json\n",
    "import time\n",
    "from math import log2, floor\n",
    "from os import scandir, getcwd\n",
    "\n",
    "import numpy as np\n",
    "from gurobipy import Model, GRB, quicksum\n",
    "from z3.z3 import *\n"
   ]
  },
  {
   "cell_type": "code",
   "source": [
    "filespath = getcwd() + '\\\\Instances\\\\instancesDat\\\\'\n",
    "data_list = []\n",
    "\n",
    "with scandir(filespath) as file_list:\n",
    "    for filename in file_list:\n",
    "        with open(filespath + filename.name) as f:\n",
    "            lines = f.readlines()\n",
    "\n",
    "            num_couriers = int(lines[0].strip())\n",
    "            num_items = int(lines[1].strip())\n",
    "            courier_loads = [int(i) for i in lines[2].strip().split()]\n",
    "            item_sizes = [int(i) for i in lines[3].strip().split()]\n",
    "            distance_matrix = [[int(j) for j in i.strip().split()] for i in lines[4:]]\n",
    "\n",
    "            data_list.append({\n",
    "                \"m\": num_couriers,\n",
    "                \"n\": num_items,\n",
    "                \"l\": courier_loads,\n",
    "                \"s\": item_sizes,\n",
    "                \"D\": distance_matrix\n",
    "            })"
   ],
   "metadata": {
    "id": "vAQ9Wlrjf4cY",
    "ExecuteTime": {
     "end_time": "2023-07-09T14:51:49.316457400Z",
     "start_time": "2023-07-09T14:51:49.117352800Z"
    }
   },
   "execution_count": 176,
   "outputs": []
  },
  {
   "cell_type": "code",
   "source": [
    "data_list = sorted(data_list, key=lambda x: x['m'] + x['n'])\n",
    "for i in range(20):\n",
    "    data = data_list[i]\n",
    "    m = data['m']  # num_couriers\n",
    "    n = data['n']  # num_items\n",
    "    print(\"id: \" + str(i) + \" m: \" + str(m), \"n: \" + str(n), data['D'][0])"
   ],
   "metadata": {
    "colab": {
     "base_uri": "https://localhost:8080/"
    },
    "id": "em655vW8fkKP",
    "outputId": "57110323-1386-43fd-f8ac-9cb62b651aa9",
    "ExecuteTime": {
     "end_time": "2023-07-09T08:40:00.402817600Z",
     "start_time": "2023-07-09T08:40:00.380642800Z"
    }
   },
   "execution_count": 9,
   "outputs": [
    {
     "name": "stdout",
     "output_type": "stream",
     "text": [
      "id: 0 m: 2 n: 3 [0, 21, 86, 99]\n",
      "id: 1 m: 2 n: 6 [0, 3, 4, 5, 6, 6, 2]\n",
      "id: 2 m: 3 n: 7 [0, 3, 3, 6, 5, 6, 6, 2]\n",
      "id: 3 m: 6 n: 8 [0, 80, 131, 22, 41, 127, 87, 48, 113]\n",
      "id: 4 m: 6 n: 9 [0, 199, 119, 28, 179, 77, 145, 61, 123, 87]\n",
      "id: 5 m: 8 n: 10 [0, 56, 86, 77, 81, 128, 107, 154, 70, 93, 53]\n",
      "id: 6 m: 8 n: 10 [0, 56, 86, 87, 81, 128, 107, 163, 166, 98, 93]\n",
      "id: 7 m: 6 n: 17 [0, 20, 19, 28, 58, 48, 45, 32, 90, 61, 71, 59, 65, 46, 72, 51, 46, 66]\n",
      "id: 8 m: 10 n: 13 [0, 49, 80, 59, 112, 79, 112, 187, 28, 47, 36, 69, 138, 54]\n",
      "id: 9 m: 10 n: 13 [0, 21, 86, 14, 84, 72, 24, 54, 83, 70, 8, 91, 42, 57]\n",
      "id: 10 m: 3 n: 47 [0, 60, 141, 22, 41, 137, 77, 48, 92, 105, 113, 103, 82, 15, 79, 24, 98, 69, 82, 30, 105, 89, 57, 94, 75, 50, 127, 16, 36, 77, 57, 70, 51, 101, 88, 38, 83, 108, 81, 124, 54, 131, 99, 70, 112, 162, 94, 64]\n",
      "id: 11 m: 20 n: 47 [0, 59, 135, 21, 41, 132, 75, 48, 88, 102, 109, 101, 81, 15, 78, 24, 96, 67, 80, 30, 103, 87, 56, 93, 73, 49, 125, 15, 36, 76, 56, 68, 50, 98, 85, 37, 81, 106, 79, 121, 53, 127, 96, 68, 108, 158, 93, 62]\n",
      "id: 12 m: 20 n: 71 [0, 230, 242, 169, 186, 107, 97, 214, 143, 165, 140, 83, 136, 167, 235, 248, 84, 189, 141, 182, 157, 225, 47, 143, 201, 63, 163, 161, 172, 152, 174, 223, 154, 219, 222, 189, 121, 242, 247, 176, 79, 140, 95, 219, 226, 171, 62, 157, 108, 79, 99, 164, 181, 229, 158, 235, 122, 118, 115, 158, 117, 214, 161, 51, 165, 155, 180, 86, 195, 162, 210, 167]\n",
      "id: 13 m: 20 n: 95 [0, 48, 78, 67, 110, 77, 110, 180, 27, 45, 35, 67, 132, 51, 39, 59, 40, 49, 62, 66, 39, 16, 58, 60, 28, 44, 129, 32, 24, 56, 59, 8, 8, 114, 59, 40, 39, 94, 130, 101, 56, 15, 79, 44, 44, 39, 2, 53, 103, 95, 75, 42, 59, 28, 61, 33, 22, 36, 48, 22, 48, 43, 92, 59, 6, 35, 48, 109, 31, 48, 36, 22, 41, 67, 93, 87, 63, 10, 43, 58, 47, 63, 61, 55, 20, 66, 12, 6, 39, 60, 45, 81, 83, 24, 21, 8]\n",
      "id: 14 m: 20 n: 143 [0, 47, 68, 167, 65, 46, 131, 123, 118, 129, 85, 113, 83, 16, 52, 124, 56, 183, 82, 81, 13, 128, 117, 45, 142, 128, 119, 125, 132, 47, 65, 20, 30, 124, 135, 19, 60, 124, 103, 115, 20, 137, 41, 73, 42, 41, 94, 43, 112, 125, 181, 25, 111, 65, 50, 37, 143, 32, 65, 38, 133, 25, 137, 6, 72, 92, 51, 49, 91, 47, 59, 55, 119, 105, 69, 5, 61, 86, 35, 124, 46, 143, 8, 117, 1, 41, 51, 80, 53, 111, 26, 29, 97, 41, 37, 144, 103, 67, 58, 34, 139, 128, 159, 127, 23, 107, 12, 50, 121, 136, 68, 15, 141, 92, 80, 167, 45, 180, 79, 124, 69, 127, 72, 22, 52, 89, 97, 147, 111, 71, 66, 82, 111, 73, 40, 14, 96, 10, 65, 110, 98, 101, 117, 67]\n",
      "id: 15 m: 20 n: 143 [0, 83, 20, 84, 48, 83, 124, 100, 128, 54, 28, 59, 9, 29, 63, 88, 16, 89, 78, 77, 93, 85, 72, 78, 93, 6, 46, 47, 120, 167, 63, 84, 113, 130, 38, 179, 71, 69, 13, 53, 59, 56, 79, 62, 21, 75, 125, 85, 189, 82, 74, 44, 125, 133, 157, 104, 197, 83, 130, 104, 151, 12, 67, 97, 110, 104, 135, 89, 61, 84, 15, 105, 34, 91, 92, 167, 130, 42, 87, 22, 80, 129, 110, 73, 158, 89, 26, 40, 143, 121, 21, 74, 125, 82, 4, 94, 94, 166, 63, 121, 111, 85, 76, 78, 104, 78, 28, 59, 26, 34, 146, 64, 89, 53, 108, 183, 86, 43, 48, 130, 33, 76, 92, 69, 117, 115, 40, 97, 29, 66, 116, 8, 25, 118, 90, 103, 98, 88, 7, 139, 86, 86, 65, 58]\n",
      "id: 16 m: 20 n: 191 [0, 191, 115, 26, 172, 75, 140, 59, 116, 75, 152, 119, 126, 110, 95, 85, 46, 90, 94, 57, 220, 78, 30, 65, 150, 69, 89, 75, 76, 201, 16, 135, 58, 82, 204, 56, 52, 115, 79, 36, 68, 118, 66, 50, 46, 189, 78, 108, 69, 105, 25, 68, 71, 79, 140, 113, 186, 115, 99, 177, 95, 82, 71, 68, 140, 105, 107, 106, 79, 122, 111, 135, 145, 135, 110, 183, 79, 52, 128, 151, 148, 115, 70, 75, 89, 6, 47, 43, 134, 80, 95, 44, 78, 67, 168, 68, 102, 74, 64, 58, 47, 65, 66, 118, 33, 103, 119, 158, 87, 152, 156, 51, 88, 68, 78, 168, 146, 167, 35, 16, 109, 179, 122, 68, 124, 141, 109, 109, 102, 85, 142, 92, 114, 65, 103, 77, 119, 108, 86, 21, 140, 161, 50, 61, 106, 61, 20, 104, 144, 154, 40, 126, 85, 95, 143, 87, 105, 36, 128, 74, 100, 81, 54, 46, 132, 92, 84, 50, 69, 42, 61, 230, 125, 136, 60, 147, 116, 119, 87, 102, 192, 40, 185, 57, 45, 98, 43, 122, 95, 101, 96, 93]\n",
      "id: 17 m: 20 n: 215 [0, 81, 75, 30, 162, 25, 188, 190, 113, 134, 46, 48, 73, 33, 64, 165, 183, 2, 127, 33, 189, 131, 46, 104, 154, 54, 107, 93, 79, 60, 198, 18, 140, 151, 199, 78, 69, 74, 58, 93, 22, 98, 22, 163, 72, 131, 67, 151, 203, 189, 153, 62, 130, 120, 108, 53, 193, 85, 63, 71, 139, 111, 72, 59, 129, 105, 64, 48, 245, 98, 150, 138, 161, 179, 159, 185, 12, 42, 73, 58, 105, 43, 59, 200, 190, 71, 143, 27, 133, 104, 160, 142, 207, 61, 14, 180, 169, 74, 97, 86, 84, 185, 90, 49, 50, 84, 231, 160, 167, 68, 136, 108, 134, 154, 54, 156, 48, 177, 50, 42, 164, 165, 75, 28, 124, 54, 156, 198, 141, 18, 163, 127, 56, 142, 37, 131, 45, 116, 59, 58, 26, 89, 9, 70, 146, 58, 46, 172, 36, 60, 62, 46, 82, 139, 164, 182, 61, 54, 105, 208, 75, 23, 54, 115, 175, 112, 63, 63, 70, 160, 51, 70, 127, 67, 134, 132, 37, 82, 131, 68, 160, 235, 141, 61, 156, 43, 145, 136, 185, 71, 88, 91, 88, 22, 218, 157, 149, 62, 54, 169, 163, 43, 117, 138, 22, 138, 154, 195, 37, 102, 130, 149, 110, 40, 158, 103]\n",
      "id: 18 m: 20 n: 239 [0, 110, 127, 46, 111, 122, 123, 95, 116, 129, 57, 118, 136, 113, 49, 5, 82, 85, 7, 77, 32, 44, 84, 117, 153, 87, 99, 91, 79, 101, 170, 117, 45, 99, 85, 79, 97, 142, 29, 95, 124, 171, 95, 70, 111, 111, 110, 33, 119, 73, 34, 134, 155, 85, 70, 89, 23, 72, 75, 53, 56, 120, 78, 109, 55, 117, 66, 116, 165, 100, 73, 94, 117, 117, 42, 125, 114, 133, 85, 77, 68, 101, 95, 53, 96, 79, 122, 72, 144, 31, 51, 62, 163, 27, 130, 45, 145, 139, 92, 92, 87, 70, 144, 71, 81, 107, 136, 121, 98, 123, 137, 132, 121, 12, 72, 98, 20, 120, 72, 168, 98, 98, 101, 58, 68, 195, 93, 120, 41, 126, 40, 87, 65, 117, 86, 124, 112, 151, 130, 139, 86, 64, 89, 79, 121, 120, 111, 79, 72, 71, 79, 193, 89, 40, 76, 140, 55, 57, 57, 37, 62, 102, 78, 77, 81, 110, 210, 43, 185, 113, 155, 105, 59, 113, 127, 86, 78, 83, 92, 9, 98, 104, 76, 34, 128, 157, 77, 80, 60, 113, 187, 126, 59, 36, 108, 85, 78, 110, 116, 4, 102, 110, 69, 102, 134, 119, 102, 119, 34, 63, 50, 95, 88, 69, 103, 98, 73, 93, 155, 76, 96, 127, 20, 43, 99, 91, 82, 75, 91, 90, 71, 112, 93, 168, 77, 168, 94, 85, 99, 88]\n",
      "id: 19 m: 20 n: 287 [0, 5, 89, 140, 77, 12, 31, 63, 96, 87, 67, 50, 35, 74, 57, 16, 84, 87, 143, 16, 4, 88, 38, 69, 42, 47, 24, 18, 14, 69, 66, 77, 128, 11, 45, 49, 102, 26, 59, 61, 53, 9, 15, 32, 62, 17, 56, 103, 25, 71, 50, 48, 131, 77, 50, 41, 86, 141, 34, 137, 37, 68, 68, 69, 91, 32, 101, 41, 28, 113, 30, 18, 52, 146, 89, 29, 95, 50, 16, 62, 92, 135, 49, 98, 131, 49, 25, 31, 66, 42, 39, 81, 95, 29, 67, 63, 35, 69, 82, 71, 43, 110, 93, 64, 68, 20, 162, 65, 28, 33, 66, 88, 97, 43, 27, 149, 107, 80, 41, 108, 53, 71, 84, 58, 117, 50, 43, 32, 80, 53, 18, 97, 49, 13, 91, 80, 64, 92, 21, 80, 16, 40, 99, 107, 13, 44, 42, 62, 105, 65, 8, 26, 50, 48, 22, 31, 85, 25, 43, 80, 37, 84, 53, 48, 128, 88, 147, 61, 46, 27, 107, 53, 109, 43, 81, 83, 100, 35, 74, 42, 24, 184, 124, 94, 24, 61, 80, 131, 107, 101, 46, 90, 100, 92, 113, 48, 74, 90, 27, 33, 84, 32, 30, 69, 26, 72, 99, 12, 144, 143, 38, 34, 51, 55, 26, 69, 103, 51, 43, 69, 34, 21, 135, 72, 64, 44, 72, 73, 89, 43, 83, 21, 82, 85, 83, 56, 55, 115, 80, 46, 50, 29, 36, 68, 66, 65, 54, 7, 38, 84, 87, 103, 39, 67, 116, 134, 42, 5, 43, 94, 94, 23, 74, 46, 86, 101, 33, 43, 61, 78, 42, 101, 73, 78, 20, 64, 80, 136, 109, 100, 111, 48, 46, 52, 40, 17, 79, 45]\n"
     ]
    }
   ]
  },
  {
   "cell_type": "code",
   "execution_count": 198,
   "outputs": [
    {
     "name": "stdout",
     "output_type": "stream",
     "text": [
      "id: 0 m: 2 n: 6 [0, 3, 4, 5, 6, 6, 2]\n",
      "id: 1 m: 6 n: 9 [0, 199, 119, 28, 179, 77, 145, 61, 123, 87]\n",
      "id: 2 m: 3 n: 7 [0, 3, 3, 6, 5, 6, 6, 2]\n",
      "id: 3 m: 8 n: 10 [0, 56, 86, 77, 81, 128, 107, 154, 70, 93, 53]\n",
      "id: 4 m: 2 n: 3 [0, 21, 86, 99]\n",
      "id: 5 m: 6 n: 8 [0, 80, 131, 22, 41, 127, 87, 48, 113]\n",
      "id: 6 m: 6 n: 17 [0, 20, 19, 28, 58, 48, 45, 32, 90, 61, 71, 59, 65, 46, 72, 51, 46, 66]\n",
      "id: 7 m: 8 n: 10 [0, 56, 86, 87, 81, 128, 107, 163, 166, 98, 93]\n",
      "id: 8 m: 10 n: 13 [0, 49, 80, 59, 112, 79, 112, 187, 28, 47, 36, 69, 138, 54]\n",
      "id: 9 m: 10 n: 13 [0, 21, 86, 14, 84, 72, 24, 54, 83, 70, 8, 91, 42, 57]\n",
      "id: 10 m: 20 n: 143 [0, 47, 68, 167, 65, 46, 131, 123, 118, 129, 85, 113, 83, 16, 52, 124, 56, 183, 82, 81, 13, 128, 117, 45, 142, 128, 119, 125, 132, 47, 65, 20, 30, 124, 135, 19, 60, 124, 103, 115, 20, 137, 41, 73, 42, 41, 94, 43, 112, 125, 181, 25, 111, 65, 50, 37, 143, 32, 65, 38, 133, 25, 137, 6, 72, 92, 51, 49, 91, 47, 59, 55, 119, 105, 69, 5, 61, 86, 35, 124, 46, 143, 8, 117, 1, 41, 51, 80, 53, 111, 26, 29, 97, 41, 37, 144, 103, 67, 58, 34, 139, 128, 159, 127, 23, 107, 12, 50, 121, 136, 68, 15, 141, 92, 80, 167, 45, 180, 79, 124, 69, 127, 72, 22, 52, 89, 97, 147, 111, 71, 66, 82, 111, 73, 40, 14, 96, 10, 65, 110, 98, 101, 117, 67]\n",
      "id: 11 m: 20 n: 95 [0, 48, 78, 67, 110, 77, 110, 180, 27, 45, 35, 67, 132, 51, 39, 59, 40, 49, 62, 66, 39, 16, 58, 60, 28, 44, 129, 32, 24, 56, 59, 8, 8, 114, 59, 40, 39, 94, 130, 101, 56, 15, 79, 44, 44, 39, 2, 53, 103, 95, 75, 42, 59, 28, 61, 33, 22, 36, 48, 22, 48, 43, 92, 59, 6, 35, 48, 109, 31, 48, 36, 22, 41, 67, 93, 87, 63, 10, 43, 58, 47, 63, 61, 55, 20, 66, 12, 6, 39, 60, 45, 81, 83, 24, 21, 8]\n",
      "id: 12 m: 3 n: 47 [0, 60, 141, 22, 41, 137, 77, 48, 92, 105, 113, 103, 82, 15, 79, 24, 98, 69, 82, 30, 105, 89, 57, 94, 75, 50, 127, 16, 36, 77, 57, 70, 51, 101, 88, 38, 83, 108, 81, 124, 54, 131, 99, 70, 112, 162, 94, 64]\n",
      "id: 13 m: 20 n: 215 [0, 81, 75, 30, 162, 25, 188, 190, 113, 134, 46, 48, 73, 33, 64, 165, 183, 2, 127, 33, 189, 131, 46, 104, 154, 54, 107, 93, 79, 60, 198, 18, 140, 151, 199, 78, 69, 74, 58, 93, 22, 98, 22, 163, 72, 131, 67, 151, 203, 189, 153, 62, 130, 120, 108, 53, 193, 85, 63, 71, 139, 111, 72, 59, 129, 105, 64, 48, 245, 98, 150, 138, 161, 179, 159, 185, 12, 42, 73, 58, 105, 43, 59, 200, 190, 71, 143, 27, 133, 104, 160, 142, 207, 61, 14, 180, 169, 74, 97, 86, 84, 185, 90, 49, 50, 84, 231, 160, 167, 68, 136, 108, 134, 154, 54, 156, 48, 177, 50, 42, 164, 165, 75, 28, 124, 54, 156, 198, 141, 18, 163, 127, 56, 142, 37, 131, 45, 116, 59, 58, 26, 89, 9, 70, 146, 58, 46, 172, 36, 60, 62, 46, 82, 139, 164, 182, 61, 54, 105, 208, 75, 23, 54, 115, 175, 112, 63, 63, 70, 160, 51, 70, 127, 67, 134, 132, 37, 82, 131, 68, 160, 235, 141, 61, 156, 43, 145, 136, 185, 71, 88, 91, 88, 22, 218, 157, 149, 62, 54, 169, 163, 43, 117, 138, 22, 138, 154, 195, 37, 102, 130, 149, 110, 40, 158, 103]\n",
      "id: 14 m: 20 n: 239 [0, 110, 127, 46, 111, 122, 123, 95, 116, 129, 57, 118, 136, 113, 49, 5, 82, 85, 7, 77, 32, 44, 84, 117, 153, 87, 99, 91, 79, 101, 170, 117, 45, 99, 85, 79, 97, 142, 29, 95, 124, 171, 95, 70, 111, 111, 110, 33, 119, 73, 34, 134, 155, 85, 70, 89, 23, 72, 75, 53, 56, 120, 78, 109, 55, 117, 66, 116, 165, 100, 73, 94, 117, 117, 42, 125, 114, 133, 85, 77, 68, 101, 95, 53, 96, 79, 122, 72, 144, 31, 51, 62, 163, 27, 130, 45, 145, 139, 92, 92, 87, 70, 144, 71, 81, 107, 136, 121, 98, 123, 137, 132, 121, 12, 72, 98, 20, 120, 72, 168, 98, 98, 101, 58, 68, 195, 93, 120, 41, 126, 40, 87, 65, 117, 86, 124, 112, 151, 130, 139, 86, 64, 89, 79, 121, 120, 111, 79, 72, 71, 79, 193, 89, 40, 76, 140, 55, 57, 57, 37, 62, 102, 78, 77, 81, 110, 210, 43, 185, 113, 155, 105, 59, 113, 127, 86, 78, 83, 92, 9, 98, 104, 76, 34, 128, 157, 77, 80, 60, 113, 187, 126, 59, 36, 108, 85, 78, 110, 116, 4, 102, 110, 69, 102, 134, 119, 102, 119, 34, 63, 50, 95, 88, 69, 103, 98, 73, 93, 155, 76, 96, 127, 20, 43, 99, 91, 82, 75, 91, 90, 71, 112, 93, 168, 77, 168, 94, 85, 99, 88]\n",
      "id: 15 m: 20 n: 47 [0, 59, 135, 21, 41, 132, 75, 48, 88, 102, 109, 101, 81, 15, 78, 24, 96, 67, 80, 30, 103, 87, 56, 93, 73, 49, 125, 15, 36, 76, 56, 68, 50, 98, 85, 37, 81, 106, 79, 121, 53, 127, 96, 68, 108, 158, 93, 62]\n",
      "id: 16 m: 20 n: 287 [0, 5, 89, 140, 77, 12, 31, 63, 96, 87, 67, 50, 35, 74, 57, 16, 84, 87, 143, 16, 4, 88, 38, 69, 42, 47, 24, 18, 14, 69, 66, 77, 128, 11, 45, 49, 102, 26, 59, 61, 53, 9, 15, 32, 62, 17, 56, 103, 25, 71, 50, 48, 131, 77, 50, 41, 86, 141, 34, 137, 37, 68, 68, 69, 91, 32, 101, 41, 28, 113, 30, 18, 52, 146, 89, 29, 95, 50, 16, 62, 92, 135, 49, 98, 131, 49, 25, 31, 66, 42, 39, 81, 95, 29, 67, 63, 35, 69, 82, 71, 43, 110, 93, 64, 68, 20, 162, 65, 28, 33, 66, 88, 97, 43, 27, 149, 107, 80, 41, 108, 53, 71, 84, 58, 117, 50, 43, 32, 80, 53, 18, 97, 49, 13, 91, 80, 64, 92, 21, 80, 16, 40, 99, 107, 13, 44, 42, 62, 105, 65, 8, 26, 50, 48, 22, 31, 85, 25, 43, 80, 37, 84, 53, 48, 128, 88, 147, 61, 46, 27, 107, 53, 109, 43, 81, 83, 100, 35, 74, 42, 24, 184, 124, 94, 24, 61, 80, 131, 107, 101, 46, 90, 100, 92, 113, 48, 74, 90, 27, 33, 84, 32, 30, 69, 26, 72, 99, 12, 144, 143, 38, 34, 51, 55, 26, 69, 103, 51, 43, 69, 34, 21, 135, 72, 64, 44, 72, 73, 89, 43, 83, 21, 82, 85, 83, 56, 55, 115, 80, 46, 50, 29, 36, 68, 66, 65, 54, 7, 38, 84, 87, 103, 39, 67, 116, 134, 42, 5, 43, 94, 94, 23, 74, 46, 86, 101, 33, 43, 61, 78, 42, 101, 73, 78, 20, 64, 80, 136, 109, 100, 111, 48, 46, 52, 40, 17, 79, 45]\n",
      "id: 17 m: 20 n: 191 [0, 191, 115, 26, 172, 75, 140, 59, 116, 75, 152, 119, 126, 110, 95, 85, 46, 90, 94, 57, 220, 78, 30, 65, 150, 69, 89, 75, 76, 201, 16, 135, 58, 82, 204, 56, 52, 115, 79, 36, 68, 118, 66, 50, 46, 189, 78, 108, 69, 105, 25, 68, 71, 79, 140, 113, 186, 115, 99, 177, 95, 82, 71, 68, 140, 105, 107, 106, 79, 122, 111, 135, 145, 135, 110, 183, 79, 52, 128, 151, 148, 115, 70, 75, 89, 6, 47, 43, 134, 80, 95, 44, 78, 67, 168, 68, 102, 74, 64, 58, 47, 65, 66, 118, 33, 103, 119, 158, 87, 152, 156, 51, 88, 68, 78, 168, 146, 167, 35, 16, 109, 179, 122, 68, 124, 141, 109, 109, 102, 85, 142, 92, 114, 65, 103, 77, 119, 108, 86, 21, 140, 161, 50, 61, 106, 61, 20, 104, 144, 154, 40, 126, 85, 95, 143, 87, 105, 36, 128, 74, 100, 81, 54, 46, 132, 92, 84, 50, 69, 42, 61, 230, 125, 136, 60, 147, 116, 119, 87, 102, 192, 40, 185, 57, 45, 98, 43, 122, 95, 101, 96, 93]\n",
      "id: 18 m: 20 n: 71 [0, 230, 242, 169, 186, 107, 97, 214, 143, 165, 140, 83, 136, 167, 235, 248, 84, 189, 141, 182, 157, 225, 47, 143, 201, 63, 163, 161, 172, 152, 174, 223, 154, 219, 222, 189, 121, 242, 247, 176, 79, 140, 95, 219, 226, 171, 62, 157, 108, 79, 99, 164, 181, 229, 158, 235, 122, 118, 115, 158, 117, 214, 161, 51, 165, 155, 180, 86, 195, 162, 210, 167]\n",
      "id: 19 m: 20 n: 287 [0, 69, 140, 173, 149, 33, 113, 109, 68, 120, 121, 20, 59, 51, 145, 46, 132, 93, 36, 84, 14, 16, 81, 156, 132, 31, 163, 86, 38, 26, 177, 179, 24, 51, 152, 38, 23, 128, 102, 86, 125, 121, 202, 139, 16, 24, 15, 185, 133, 83, 123, 23, 152, 143, 58, 149, 77, 94, 164, 97, 106, 77, 81, 75, 70, 118, 130, 78, 113, 214, 191, 106, 65, 55, 129, 41, 104, 58, 175, 65, 29, 93, 83, 34, 179, 110, 55, 41, 209, 112, 56, 171, 32, 126, 57, 69, 49, 34, 65, 132, 106, 33, 85, 144, 93, 32, 74, 14, 121, 141, 123, 121, 60, 118, 175, 52, 127, 101, 177, 143, 31, 34, 35, 58, 90, 70, 66, 31, 28, 49, 112, 33, 67, 81, 122, 164, 60, 51, 30, 127, 27, 202, 38, 123, 84, 132, 124, 114, 56, 79, 63, 146, 117, 4, 89, 127, 193, 230, 65, 115, 14, 17, 15, 18, 140, 33, 28, 84, 113, 85, 151, 100, 141, 77, 48, 100, 119, 62, 124, 105, 82, 28, 86, 136, 126, 149, 139, 69, 53, 96, 74, 17, 149, 120, 32, 18, 47, 111, 37, 102, 25, 137, 98, 141, 78, 96, 65, 72, 89, 53, 82, 77, 126, 33, 28, 67, 142, 119, 31, 116, 130, 184, 67, 140, 31, 209, 99, 31, 52, 45, 139, 76, 158, 52, 166, 62, 72, 43, 102, 212, 21, 138, 83, 85, 130, 25, 125, 133, 70, 58, 125, 33, 95, 142, 138, 119, 150, 188, 26, 157, 70, 148, 156, 102, 112, 143, 35, 98, 142, 51, 47, 128, 74, 70, 169, 126, 93, 39, 51, 119, 108, 127, 167, 148, 118, 60, 48, 86]\n"
     ]
    }
   ],
   "source": [
    "for i in range(20):\n",
    "    data = data_list[i]\n",
    "    m = data['m']  # num_couriers\n",
    "    n = data['n']  # num_items\n",
    "    print(\"id: \" + str(i) + \" m: \" + str(m), \"n: \" + str(n), data['D'][0])"
   ],
   "metadata": {
    "collapsed": false,
    "ExecuteTime": {
     "end_time": "2023-07-09T15:49:53.073312300Z",
     "start_time": "2023-07-09T15:49:53.063015100Z"
    }
   }
  },
  {
   "cell_type": "code",
   "source": [
    "data = data_list[1]\n",
    "m = data['m']  # num_couriers\n",
    "n = data['n']  # num_items\n",
    "l = data['l']  # courier_loads\n",
    "s = data['s']  # item_sizes\n",
    "D = data['D']  # distance_matrix"
   ],
   "metadata": {
    "id": "L-xJyn2Q0JoI",
    "ExecuteTime": {
     "end_time": "2023-07-09T14:51:56.865700200Z",
     "start_time": "2023-07-09T14:51:56.823726700Z"
    }
   },
   "execution_count": 178,
   "outputs": []
  },
  {
   "cell_type": "markdown",
   "source": [
    "## SAT MODEL"
   ],
   "metadata": {
    "id": "LYn8TFkhYOau"
   }
  },
  {
   "cell_type": "markdown",
   "source": [
    "### Defining the decisions variables and constraints"
   ],
   "metadata": {
    "id": "CMmBSWmXbbsU"
   }
  },
  {
   "cell_type": "code",
   "source": [
    "def define_decision_variables(num_couriers, num_items):\n",
    "    #These variables control the couriers’ movements and ensure that they follow the optimal path\n",
    "    x = [[Bool(f\"x_{i}_{j}\") for j in range(num_items + 1)] for i in range(num_items + 1)]\n",
    "    #These variables signal ’true’ when courier k is allocated to node i\n",
    "    v = [[Bool(f\"v_{i}_{k}\") for k in range(num_couriers)] for i in range(num_items)]\n",
    "\n",
    "    num_bits = int(log2(num_items)) + 1\n",
    "    #These variables purpose is to encode the sequence of node visits in binary notation\n",
    "    u = [[Bool(f\"u_{i}_{k}\") for k in range(num_bits)] for i in range(num_items)]\n",
    "    return x, v, u"
   ],
   "metadata": {
    "id": "PyjNLQEmrfbI",
    "ExecuteTime": {
     "end_time": "2023-07-09T16:24:16.317456700Z",
     "start_time": "2023-07-09T16:24:16.306087900Z"
    }
   },
   "execution_count": 208,
   "outputs": []
  },
  {
   "cell_type": "code",
   "source": [
    "def exactly_one(boolean_vars):\n",
    "    return And(AtMost(*boolean_vars, 1), AtLeast(*boolean_vars, 1))\n",
    "\n",
    "\n",
    "def exactly(boolean_vars, nb):\n",
    "    return And(AtMost(*boolean_vars, nb), AtLeast(*boolean_vars, nb))\n",
    "\n",
    "\n",
    "def binary_increment(a, b):\n",
    "    constraints = []\n",
    "    carry = {}\n",
    "    num_digits = len(a)\n",
    "\n",
    "    constraints.append(b[0] == Not(a[0]))\n",
    "    constraints.append(b[1] == Or(And(a[1], Not(a[0])), And(Not(a[1]), a[0])))\n",
    "    carry[1] = a[0]\n",
    "\n",
    "    for i in range(2, num_digits):\n",
    "        carry[i] = And(a[i - 1], carry[i - 1])\n",
    "        constraints.append(b[i] == Or(And(a[i], Not(carry[i])), And(Not(a[i]), carry[i])))\n",
    "\n",
    "    return And(constraints)\n"
   ],
   "metadata": {
    "id": "uMV_MNcCY8bZ",
    "ExecuteTime": {
     "end_time": "2023-07-09T16:24:18.685684500Z",
     "start_time": "2023-07-09T16:24:18.679492500Z"
    }
   },
   "execution_count": 209,
   "outputs": []
  },
  {
   "cell_type": "code",
   "execution_count": 218,
   "metadata": {
    "id": "uNvPVf8Ytx3o",
    "ExecuteTime": {
     "end_time": "2023-07-09T17:06:07.604739500Z",
     "start_time": "2023-07-09T17:06:07.590748500Z"
    }
   },
   "outputs": [],
   "source": [
    "def add_constraints(solver, x, v, u, num_couriers, num_items, max_loads, item_sizes, distance_matrix, max_distance):\n",
    "    # No route from itself to itself\n",
    "    solver.add([x[i][i] == False for i in range(num_items + 1)])\n",
    "\n",
    "    # Each location must be visited exactly once\n",
    "    solver.add([exactly_one([x[i][j] for j in range(num_items + 1)]) for i in range(num_items)])\n",
    "    solver.add([exactly_one([x[i][j] for i in range(num_items + 1)]) for j in range(num_items)])\n",
    "\n",
    "    # At most num_couriers couriers can start from the origin and return to the origin\n",
    "    solver.add(Sum([x[num_items][j] for j in range(num_items + 1)]) == num_couriers)\n",
    "    solver.add(Sum([x[i][num_items] for i in range(num_items + 1)]) == num_couriers)\n",
    "\n",
    "    #solver.add(AtMost(*[x[num_items + 1][j] for j in range(num_items)], num_couriers))\n",
    "    #solver.add(AtMost(*[x[i][num_items + 1] for i in range(num_items)], num_couriers))\n",
    "\n",
    "    # Each courier can start from the origin at most once. This means a courier can't start delivering from the origin more than once.\n",
    "    #solver.add([AtMost(*[And(v[j][k], x[num_items][j]) for j in range(num_items)], 1) for k in range(num_couriers)])\n",
    "    # If courier i goes from location j to location k, then courier i must also carry item j\n",
    "    solver.add([Implies(x[i][j], v[i][k] == v[j][k]) for k in range(num_couriers) for i in range(num_items) for j in\n",
    "                range(num_items)])\n",
    "\n",
    "    # Each item must be carried by exactly one courier\n",
    "    solver.add([exactly_one(v[i]) for i in range(num_items)])\n",
    "\n",
    "    # solver.add(\n",
    "    #    [Implies(And(x[num_items][i], x[i][j]), i < j) for i in range(num_items) for j in range(num_items) if i != j])\n",
    "\n",
    "    for i in range(len(distance_matrix)-1):\n",
    "        for j in range(len(distance_matrix)-1):\n",
    "            if distance_matrix[i][j] == distance_matrix[j][i] and i < j:\n",
    "                solver.add(x[j][i] == False)\n",
    "\n",
    "    # The order of visiting locations must be consistent with the binary representations\n",
    "    for j in range(num_items):\n",
    "        for i in range(num_items):\n",
    "            if i != j:\n",
    "                solver.add(Implies(x[i][j], binary_increment(u[i], u[j])))\n",
    "\n",
    "    # The total distance travelled by the couriers must not exceed the max distance\n",
    "    solver.add(\n",
    "        PbLe([(x[i][j], distance_matrix[i, j]) for j in range(num_items + 1) for i in range(num_items + 1) if i != j],\n",
    "             max_distance - 1))\n",
    "\n",
    "    # The total size of items carried by each courier must not exceed the courier's max load\n",
    "    for k in range(num_couriers):\n",
    "        assert len(v) == num_items, \"The list v doesn't have num_items elements.\"\n",
    "        for sublist in v:\n",
    "            assert len(sublist) == num_couriers, \"One of the sublists in v doesn't have num_couriers elements.\"\n",
    "        assert len(item_sizes) == num_items, \"The list item_sizes doesn't have num_items elements.\"\n",
    "        assert len(max_loads) == num_couriers, \"The list max_loads doesn't have num_couriers elements.\"\n",
    "        solver.add(PbLe([(v[i][k], item_sizes[i]) for i in range(num_items)], max_loads[k]))\n",
    "\n",
    "\n",
    "#for i in range(num_items):\n",
    "#   solver.add([Implies(v[i][k2], v[i][k1]) for k1 in range(num_couriers) for k2 in range(num_couriers) if k1 > k2])\n",
    "\n",
    "# Symmetry-breaking constraint: enforce a specific ordering of courier assignments\n",
    "#for i in range(num_items):\n",
    "#    solver.add([Implies(v[i][k2], v[i][k1]) for k1 in range(num_couriers) for k2 in range(num_couriers) if k1 > k2])\n",
    "\n",
    "# Symmetry-breaking constraint: If courier i goes from the origin to location j, then i must be less than j, order of node assignment\n",
    "#solver.add(\n",
    "#    [Implies(And(x[num_items][i], x[i][j]), i < j) for i in range(num_items) for j in range(num_items) if i != j])\n"
   ]
  },
  {
   "cell_type": "markdown",
   "source": [
    "### Formulating the Optimization Problem"
   ],
   "metadata": {
    "id": "klw1GGBIbf4P"
   }
  },
  {
   "cell_type": "code",
   "source": [
    "def define_problem(num_couriers, num_items, max_loads, item_sizes, distance_matrix, max_distance=None):\n",
    "    distance_matrix = np.array(distance_matrix)\n",
    "\n",
    "    if max_distance is None:\n",
    "        max_distance = int(np.sum(distance_matrix))\n",
    "\n",
    "    #solver = Optimize()\n",
    "    solver = SolverFor(\"QF_BV\")\n",
    "\n",
    "    x, v, u = define_decision_variables(num_couriers, num_items)\n",
    "\n",
    "    add_constraints(solver, x, v, u, num_couriers, num_items, max_loads, item_sizes, distance_matrix, max_distance)\n",
    "\n",
    "    #total_distance = Sum([distance_matrix[i, j] * x[i][j] for j in range(num_items + 1) for i in range(num_items + 1) if i != j])\n",
    "    #solver.minimize(total_distance)\n",
    "    return solver, x, v\n",
    "\n",
    "\n"
   ],
   "metadata": {
    "id": "KnPBnvUIu_S8",
    "ExecuteTime": {
     "end_time": "2023-07-09T17:06:05.397280600Z",
     "start_time": "2023-07-09T17:06:05.377199300Z"
    }
   },
   "execution_count": 217,
   "outputs": []
  },
  {
   "cell_type": "markdown",
   "source": [
    "### Interpreting and Displaying Optimization Results"
   ],
   "metadata": {
    "id": "jRLwya47clat"
   }
  },
  {
   "cell_type": "code",
   "source": [
    "def handle_solution(solver, x, v, num_couriers, num_items, distance_matrix):\n",
    "    solver.set(\"timeout\", 60)  # timeout is in milliseconds\n",
    "    model = solver.model()\n",
    "    route_matrix = [[model.evaluate(x[i][j]) for j in range(num_items + 1)] for i in range(num_items + 1)]\n",
    "    item_courier_matrix = [[model.evaluate(v[i][k]) for k in range(num_couriers)] for i in range(num_items)]\n",
    "    num_nodes = len(route_matrix) - 1\n",
    "    routes = {}\n",
    "    courier_distance = {}\n",
    "\n",
    "    for origin_node in range(num_nodes + 1):\n",
    "        if route_matrix[num_nodes][origin_node]:  # if there is a route from the last node to the current node\n",
    "            courier_path = [num_nodes, origin_node]  # start a new path\n",
    "            courier_id = item_courier_matrix[origin_node].index(True)  # assign a courier to this path\n",
    "            current_node = origin_node  # initialize the current node\n",
    "            courier_distance[courier_id] = distance_matrix[num_nodes][\n",
    "                origin_node]  # initialize the courier's total distance\n",
    "\n",
    "            # Continue the path until we reach back to the last node\n",
    "            while current_node != num_nodes:\n",
    "                if courier_id != item_courier_matrix[current_node].index(True):\n",
    "                    print('Some error occurred with courier', courier_id)\n",
    "                for next_node in range(num_nodes + 1):\n",
    "                    if current_node != next_node and route_matrix[current_node][next_node]:\n",
    "                        courier_path.append(next_node)  # append the next node to the path\n",
    "                        courier_distance[courier_id] += distance_matrix[current_node][\n",
    "                            next_node]  # update the courier's total distance\n",
    "                        current_node = next_node  # move to the next node\n",
    "                        break\n",
    "            routes[courier_id] = courier_path  # store the courier's path\n",
    "    total_distance = 0\n",
    "    paths = []\n",
    "\n",
    "    for courier_id, route in routes.items():\n",
    "        path_display = \" > \".join([str((node + 1) % (num_nodes + 1)) for node in route])\n",
    "        distance_display = f\"{courier_distance[courier_id]:,}\"\n",
    "        paths.append((courier_id + 1, path_display, distance_display))\n",
    "        total_distance += courier_distance[courier_id]\n",
    "\n",
    "    # Print the courier paths\n",
    "    print(\"Courier Paths:\")\n",
    "    print(\"-\" * 60)\n",
    "    print(\"{:<10s} {:<30s} {:<15s}\".format(\"Courier\", \"Path\", \"Distance\"))\n",
    "    print(\"-\" * 60)\n",
    "    for courier_id, path_display, distance_display in paths:\n",
    "        print(\"{:<10d} {:<30s} {:<15s}\".format(courier_id, path_display, distance_display))\n",
    "    print(\"-\" * 60)\n",
    "\n",
    "    # Print the total distance\n",
    "    print(\"Total distance:\", f\"{total_distance:,}\")\n",
    "    return total_distance\n"
   ],
   "metadata": {
    "id": "tp_kXS7Wx68A",
    "ExecuteTime": {
     "end_time": "2023-07-09T17:06:10.248025500Z",
     "start_time": "2023-07-09T17:06:10.228645100Z"
    }
   },
   "execution_count": 219,
   "outputs": []
  },
  {
   "cell_type": "markdown",
   "source": [
    "### Executing Item Assignment and Route Optimization for the SAT Model"
   ],
   "metadata": {
    "id": "z4ehNSsEd423"
   }
  },
  {
   "cell_type": "code",
   "source": [
    "def assign(num_couriers, num_items, max_loads, item_sizes, distance_matrix):\n",
    "    if sum(item_sizes) > sum(max_loads):\n",
    "        print(\"Total weight of all items surpasses possible weight transportable\")\n",
    "        return 0\n",
    "\n",
    "    remaining_time = 300\n",
    "    solver, x, v = define_problem(num_couriers, num_items, max_loads, item_sizes, distance_matrix)\n",
    "\n",
    "    if solver.check() == sat:\n",
    "        total_distance = handle_solution(solver, x, v, num_couriers, num_items, distance_matrix)\n",
    "        print(f\"Initial solution found with total distance: {total_distance}\")\n",
    "\n",
    "        while remaining_time > 0:\n",
    "            print(f\"Looking for solutions with total distance < {total_distance}\")\n",
    "            time_before = time.time()\n",
    "            solver, x, v = define_problem(num_couriers, num_items, max_loads, item_sizes, distance_matrix,\n",
    "                                          total_distance)\n",
    "\n",
    "            if solver.check() == sat:\n",
    "                total_distance = handle_solution(solver, x, v, num_couriers, num_items, distance_matrix)\n",
    "                elapsed_time = time.time() - time_before\n",
    "                remaining_time -= elapsed_time\n",
    "                print(f\"Elapsed time: {elapsed_time:.2f} seconds\")\n",
    "                print(f\"Remaining time: {remaining_time:.2f} seconds\")\n",
    "            else:\n",
    "                print(\"No more solutions found.\")\n",
    "                break\n",
    "\n",
    "        if remaining_time <= 0:\n",
    "            print(\"Time limit exceeded\")\n",
    "        return 0\n",
    "    else:\n",
    "        print(\"Failed to find a solution\")\n",
    "        return 0\n"
   ],
   "metadata": {
    "id": "kgpziHiSx7P_",
    "ExecuteTime": {
     "end_time": "2023-07-09T17:06:12.787335800Z",
     "start_time": "2023-07-09T17:06:12.769138900Z"
    }
   },
   "execution_count": 220,
   "outputs": []
  },
  {
   "cell_type": "code",
   "source": [
    "assign(m, n, l, s, D)"
   ],
   "metadata": {
    "colab": {
     "base_uri": "https://localhost:8080/"
    },
    "id": "NuZFJTKwFLrW",
    "outputId": "1ac16c87-f3ce-490b-a3d3-e49205936281",
    "ExecuteTime": {
     "end_time": "2023-07-09T17:13:06.964297900Z",
     "start_time": "2023-07-09T17:06:15.543077800Z"
    }
   },
   "execution_count": 221,
   "outputs": [
    {
     "ename": "IndexError",
     "evalue": "index 10 is out of bounds for axis 0 with size 10",
     "output_type": "error",
     "traceback": [
      "\u001B[1;31m---------------------------------------------------------------------------\u001B[0m",
      "\u001B[1;31mIndexError\u001B[0m                                Traceback (most recent call last)",
      "Cell \u001B[1;32mIn[221], line 1\u001B[0m\n\u001B[1;32m----> 1\u001B[0m \u001B[43massign\u001B[49m\u001B[43m(\u001B[49m\u001B[43mm\u001B[49m\u001B[43m,\u001B[49m\u001B[43m \u001B[49m\u001B[43mn\u001B[49m\u001B[43m,\u001B[49m\u001B[43m \u001B[49m\u001B[43ml\u001B[49m\u001B[43m,\u001B[49m\u001B[43m \u001B[49m\u001B[43ms\u001B[49m\u001B[43m,\u001B[49m\u001B[43m \u001B[49m\u001B[43mD\u001B[49m\u001B[43m)\u001B[49m\n",
      "Cell \u001B[1;32mIn[220], line 7\u001B[0m, in \u001B[0;36massign\u001B[1;34m(num_couriers, num_items, max_loads, item_sizes, distance_matrix)\u001B[0m\n\u001B[0;32m      4\u001B[0m     \u001B[38;5;28;01mreturn\u001B[39;00m \u001B[38;5;241m0\u001B[39m\n\u001B[0;32m      6\u001B[0m remaining_time \u001B[38;5;241m=\u001B[39m \u001B[38;5;241m300\u001B[39m\n\u001B[1;32m----> 7\u001B[0m solver, x, v \u001B[38;5;241m=\u001B[39m \u001B[43mdefine_problem\u001B[49m\u001B[43m(\u001B[49m\u001B[43mnum_couriers\u001B[49m\u001B[43m,\u001B[49m\u001B[43m \u001B[49m\u001B[43mnum_items\u001B[49m\u001B[43m,\u001B[49m\u001B[43m \u001B[49m\u001B[43mmax_loads\u001B[49m\u001B[43m,\u001B[49m\u001B[43m \u001B[49m\u001B[43mitem_sizes\u001B[49m\u001B[43m,\u001B[49m\u001B[43m \u001B[49m\u001B[43mdistance_matrix\u001B[49m\u001B[43m)\u001B[49m\n\u001B[0;32m      9\u001B[0m \u001B[38;5;28;01mif\u001B[39;00m solver\u001B[38;5;241m.\u001B[39mcheck() \u001B[38;5;241m==\u001B[39m sat:\n\u001B[0;32m     10\u001B[0m     total_distance \u001B[38;5;241m=\u001B[39m handle_solution(solver, x, v, num_couriers, num_items, distance_matrix)\n",
      "Cell \u001B[1;32mIn[217], line 12\u001B[0m, in \u001B[0;36mdefine_problem\u001B[1;34m(num_couriers, num_items, max_loads, item_sizes, distance_matrix, max_distance)\u001B[0m\n\u001B[0;32m      8\u001B[0m solver \u001B[38;5;241m=\u001B[39m SolverFor(\u001B[38;5;124m\"\u001B[39m\u001B[38;5;124mQF_BV\u001B[39m\u001B[38;5;124m\"\u001B[39m)\n\u001B[0;32m     10\u001B[0m x, v, u \u001B[38;5;241m=\u001B[39m define_decision_variables(num_couriers, num_items)\n\u001B[1;32m---> 12\u001B[0m \u001B[43madd_constraints\u001B[49m\u001B[43m(\u001B[49m\u001B[43msolver\u001B[49m\u001B[43m,\u001B[49m\u001B[43m \u001B[49m\u001B[43mx\u001B[49m\u001B[43m,\u001B[49m\u001B[43m \u001B[49m\u001B[43mv\u001B[49m\u001B[43m,\u001B[49m\u001B[43m \u001B[49m\u001B[43mu\u001B[49m\u001B[43m,\u001B[49m\u001B[43m \u001B[49m\u001B[43mnum_couriers\u001B[49m\u001B[43m,\u001B[49m\u001B[43m \u001B[49m\u001B[43mnum_items\u001B[49m\u001B[43m,\u001B[49m\u001B[43m \u001B[49m\u001B[43mmax_loads\u001B[49m\u001B[43m,\u001B[49m\u001B[43m \u001B[49m\u001B[43mitem_sizes\u001B[49m\u001B[43m,\u001B[49m\u001B[43m \u001B[49m\u001B[43mdistance_matrix\u001B[49m\u001B[43m,\u001B[49m\u001B[43m \u001B[49m\u001B[43mmax_distance\u001B[49m\u001B[43m)\u001B[49m\n\u001B[0;32m     14\u001B[0m \u001B[38;5;66;03m#total_distance = Sum([distance_matrix[i, j] * x[i][j] for j in range(num_items + 1) for i in range(num_items + 1) if i != j])\u001B[39;00m\n\u001B[0;32m     15\u001B[0m \u001B[38;5;66;03m#solver.minimize(total_distance)\u001B[39;00m\n\u001B[0;32m     16\u001B[0m \u001B[38;5;28;01mreturn\u001B[39;00m solver, x, v\n",
      "Cell \u001B[1;32mIn[218], line 41\u001B[0m, in \u001B[0;36madd_constraints\u001B[1;34m(solver, x, v, u, num_couriers, num_items, max_loads, item_sizes, distance_matrix, max_distance)\u001B[0m\n\u001B[0;32m     37\u001B[0m             solver\u001B[38;5;241m.\u001B[39madd(Implies(x[i][j], binary_increment(u[i], u[j])))\n\u001B[0;32m     39\u001B[0m \u001B[38;5;66;03m# The total distance travelled by the couriers must not exceed the max distance\u001B[39;00m\n\u001B[0;32m     40\u001B[0m solver\u001B[38;5;241m.\u001B[39madd(\n\u001B[1;32m---> 41\u001B[0m     PbLe(\u001B[43m[\u001B[49m\u001B[43m(\u001B[49m\u001B[43mx\u001B[49m\u001B[43m[\u001B[49m\u001B[43mi\u001B[49m\u001B[43m]\u001B[49m\u001B[43m[\u001B[49m\u001B[43mj\u001B[49m\u001B[43m]\u001B[49m\u001B[43m,\u001B[49m\u001B[43m \u001B[49m\u001B[43mdistance_matrix\u001B[49m\u001B[43m[\u001B[49m\u001B[43mi\u001B[49m\u001B[43m,\u001B[49m\u001B[43m \u001B[49m\u001B[43mj\u001B[49m\u001B[43m]\u001B[49m\u001B[43m)\u001B[49m\u001B[43m \u001B[49m\u001B[38;5;28;43;01mfor\u001B[39;49;00m\u001B[43m \u001B[49m\u001B[43mj\u001B[49m\u001B[43m \u001B[49m\u001B[38;5;129;43;01min\u001B[39;49;00m\u001B[43m \u001B[49m\u001B[38;5;28;43mrange\u001B[39;49m\u001B[43m(\u001B[49m\u001B[43mnum_items\u001B[49m\u001B[43m \u001B[49m\u001B[38;5;241;43m+\u001B[39;49m\u001B[43m \u001B[49m\u001B[38;5;241;43m1\u001B[39;49m\u001B[43m)\u001B[49m\u001B[43m \u001B[49m\u001B[38;5;28;43;01mfor\u001B[39;49;00m\u001B[43m \u001B[49m\u001B[43mi\u001B[49m\u001B[43m \u001B[49m\u001B[38;5;129;43;01min\u001B[39;49;00m\u001B[43m \u001B[49m\u001B[38;5;28;43mrange\u001B[39;49m\u001B[43m(\u001B[49m\u001B[43mnum_items\u001B[49m\u001B[43m \u001B[49m\u001B[38;5;241;43m+\u001B[39;49m\u001B[43m \u001B[49m\u001B[38;5;241;43m1\u001B[39;49m\u001B[43m)\u001B[49m\u001B[43m \u001B[49m\u001B[38;5;28;43;01mif\u001B[39;49;00m\u001B[43m \u001B[49m\u001B[43mi\u001B[49m\u001B[43m \u001B[49m\u001B[38;5;241;43m!=\u001B[39;49m\u001B[43m \u001B[49m\u001B[43mj\u001B[49m\u001B[43m]\u001B[49m,\n\u001B[0;32m     42\u001B[0m          max_distance \u001B[38;5;241m-\u001B[39m \u001B[38;5;241m1\u001B[39m))\n\u001B[0;32m     44\u001B[0m \u001B[38;5;66;03m# The total size of items carried by each courier must not exceed the courier's max load\u001B[39;00m\n\u001B[0;32m     45\u001B[0m \u001B[38;5;28;01mfor\u001B[39;00m k \u001B[38;5;129;01min\u001B[39;00m \u001B[38;5;28mrange\u001B[39m(num_couriers):\n",
      "Cell \u001B[1;32mIn[218], line 41\u001B[0m, in \u001B[0;36m<listcomp>\u001B[1;34m(.0)\u001B[0m\n\u001B[0;32m     37\u001B[0m             solver\u001B[38;5;241m.\u001B[39madd(Implies(x[i][j], binary_increment(u[i], u[j])))\n\u001B[0;32m     39\u001B[0m \u001B[38;5;66;03m# The total distance travelled by the couriers must not exceed the max distance\u001B[39;00m\n\u001B[0;32m     40\u001B[0m solver\u001B[38;5;241m.\u001B[39madd(\n\u001B[1;32m---> 41\u001B[0m     PbLe([(x[i][j], \u001B[43mdistance_matrix\u001B[49m\u001B[43m[\u001B[49m\u001B[43mi\u001B[49m\u001B[43m,\u001B[49m\u001B[43m \u001B[49m\u001B[43mj\u001B[49m\u001B[43m]\u001B[49m) \u001B[38;5;28;01mfor\u001B[39;00m j \u001B[38;5;129;01min\u001B[39;00m \u001B[38;5;28mrange\u001B[39m(num_items \u001B[38;5;241m+\u001B[39m \u001B[38;5;241m1\u001B[39m) \u001B[38;5;28;01mfor\u001B[39;00m i \u001B[38;5;129;01min\u001B[39;00m \u001B[38;5;28mrange\u001B[39m(num_items \u001B[38;5;241m+\u001B[39m \u001B[38;5;241m1\u001B[39m) \u001B[38;5;28;01mif\u001B[39;00m i \u001B[38;5;241m!=\u001B[39m j],\n\u001B[0;32m     42\u001B[0m          max_distance \u001B[38;5;241m-\u001B[39m \u001B[38;5;241m1\u001B[39m))\n\u001B[0;32m     44\u001B[0m \u001B[38;5;66;03m# The total size of items carried by each courier must not exceed the courier's max load\u001B[39;00m\n\u001B[0;32m     45\u001B[0m \u001B[38;5;28;01mfor\u001B[39;00m k \u001B[38;5;129;01min\u001B[39;00m \u001B[38;5;28mrange\u001B[39m(num_couriers):\n",
      "\u001B[1;31mIndexError\u001B[0m: index 10 is out of bounds for axis 0 with size 10"
     ]
    }
   ]
  },
  {
   "cell_type": "markdown",
   "source": [
    "## One symmetry breaking constraints : Courier assignment\n",
    "\n"
   ],
   "metadata": {
    "id": "2u6np791vzjv"
   }
  },
  {
   "cell_type": "code",
   "source": [
    "def add_constraints(solver, x, v, u, num_couriers, num_items, max_loads, item_sizes, distance_matrix, max_distance):\n",
    "    # No route from itself to itself\n",
    "    solver.add([x[i][i] == False for i in range(num_items + 1)])\n",
    "\n",
    "    # Each location must be visited exactly once\n",
    "    solver.add([exactly_one([x[i][j] for j in range(num_items + 1)]) for i in range(num_items)])\n",
    "    solver.add([exactly_one([x[i][j] for i in range(num_items + 1)]) for j in range(num_items)])\n",
    "\n",
    "    # At most num_couriers couriers can start from the origin and return to the origin\n",
    "    solver.add(AtMost(*[x[num_items][j] for j in range(num_items)], num_couriers))\n",
    "    solver.add(AtMost(*[x[i][num_items] for i in range(num_items)], num_couriers))\n",
    "\n",
    "    # Each courier can start from the origin at most once. This means a courier can't start delivering from the origin more than once.\n",
    "    solver.add([AtMost(*[And(v[j][k], x[num_items][j]) for j in range(num_items)], 1) for k in range(num_couriers)])\n",
    "    # If courier i goes from location j to location k, then courier i must also carry item j\n",
    "    solver.add([Implies(x[i][j], v[i][k] == v[j][k]) for k in range(num_couriers) for i in range(num_items) for j in\n",
    "                range(num_items)])\n",
    "\n",
    "    # Each item must be carried by exactly one courier\n",
    "    solver.add([exactly_one(v[i]) for i in range(num_items)])\n",
    "\n",
    "    # The total size of items carried by each courier must not exceed the courier's max load\n",
    "    for k in range(num_couriers):\n",
    "        assert len(v) == num_items, \"The list v doesn't have num_items elements.\"\n",
    "        for sublist in v:\n",
    "            assert len(sublist) == num_couriers, \"One of the sublists in v doesn't have num_couriers elements.\"\n",
    "        assert len(item_sizes) == num_items, \"The list item_sizes doesn't have num_items elements.\"\n",
    "        assert len(max_loads) == num_couriers, \"The list max_loads doesn't have num_couriers elements.\"\n",
    "        solver.add(PbLe([(v[i][k], item_sizes[i]) for i in range(num_items)], max_loads[k]))\n",
    "\n",
    "    # The total distance travelled by the couriers must not exceed the max distance\n",
    "    solver.add(\n",
    "        PbLe([(x[i][j], distance_matrix[i, j]) for j in range(num_items + 1) for i in range(num_items + 1) if i != j],\n",
    "             max_distance - 1))\n",
    "\n",
    "    # The order of visiting locations must be consistent with the binary representations\n",
    "    for j in range(num_items):\n",
    "        for i in range(num_items):\n",
    "            if i != j:\n",
    "                solver.add(Implies(x[i][j], binary_increment(u[i], u[j])))\n",
    "\n",
    "    # Symmetry-breaking constraint: enforce a specific ordering of courier assignments\n",
    "    for i in range(num_items):\n",
    "        solver.add([Implies(v[i][k2], v[i][k1]) for k1 in range(num_couriers) for k2 in range(num_couriers) if k1 > k2])\n",
    "    '''\n",
    "    # Symmetry-breaking constraint: If courier i goes from the origin to location j, then i must be less than j, order of node assignment\n",
    "    solver.add([Implies(And(x[num_items][i],x[i][j]),i<j) for i in range(num_items) for j in range(num_items) if i!=j])\n",
    "    '''\n",
    "\n",
    "\n",
    "assign(m, n, l, s, D)"
   ],
   "metadata": {
    "colab": {
     "base_uri": "https://localhost:8080/"
    },
    "id": "AFfQBvZMLX26",
    "outputId": "def1e947-fed1-4391-d54b-c4520691652c"
   },
   "execution_count": 490,
   "outputs": [
    {
     "output_type": "stream",
     "name": "stdout",
     "text": [
      "Failed to find a solution\n"
     ]
    },
    {
     "output_type": "execute_result",
     "data": {
      "text/plain": [
       "0"
      ]
     },
     "metadata": {},
     "execution_count": 490
    }
   ]
  },
  {
   "cell_type": "markdown",
   "source": [
    "## One symmetry breaking constraints : Node assignment\n"
   ],
   "metadata": {
    "id": "ypN4Z3TMLssE"
   }
  },
  {
   "cell_type": "code",
   "source": [
    "def add_constraints(solver, x, v, u, num_couriers, num_items, max_loads, item_sizes, distance_matrix, max_distance):\n",
    "    # No route from itself to itself\n",
    "    solver.add([x[i][i] == False for i in range(num_items + 1)])\n",
    "\n",
    "    # Each location must be visited exactly once\n",
    "    solver.add([exactly_one([x[i][j] for j in range(num_items + 1)]) for i in range(num_items)])\n",
    "    solver.add([exactly_one([x[i][j] for i in range(num_items + 1)]) for j in range(num_items)])\n",
    "\n",
    "    # At most num_couriers couriers can start from the origin and return to the origin\n",
    "    solver.add(AtMost(*[x[num_items][j] for j in range(num_items)], num_couriers))\n",
    "    solver.add(AtMost(*[x[i][num_items] for i in range(num_items)], num_couriers))\n",
    "\n",
    "    # Each courier can start from the origin at most once. This means a courier can't start delivering from the origin more than once.\n",
    "    solver.add([AtMost(*[And(v[j][k], x[num_items][j]) for j in range(num_items)], 1) for k in range(num_couriers)])\n",
    "    # If courier i goes from location j to location k, then courier i must also carry item j\n",
    "    solver.add([Implies(x[i][j], v[i][k] == v[j][k]) for k in range(num_couriers) for i in range(num_items) for j in\n",
    "                range(num_items)])\n",
    "\n",
    "    # Each item must be carried by exactly one courier\n",
    "    solver.add([exactly_one(v[i]) for i in range(num_items)])\n",
    "\n",
    "    # The total size of items carried by each courier must not exceed the courier's max load\n",
    "    for k in range(num_couriers):\n",
    "        assert len(v) == num_items, \"The list v doesn't have num_items elements.\"\n",
    "        for sublist in v:\n",
    "            assert len(sublist) == num_couriers, \"One of the sublists in v doesn't have num_couriers elements.\"\n",
    "        assert len(item_sizes) == num_items, \"The list item_sizes doesn't have num_items elements.\"\n",
    "        assert len(max_loads) == num_couriers, \"The list max_loads doesn't have num_couriers elements.\"\n",
    "        solver.add(PbLe([(v[i][k], item_sizes[i]) for i in range(num_items)], max_loads[k]))\n",
    "\n",
    "    # The total distance travelled by the couriers must not exceed the max distance\n",
    "    solver.add(\n",
    "        PbLe([(x[i][j], distance_matrix[i, j]) for j in range(num_items + 1) for i in range(num_items + 1) if i != j],\n",
    "             max_distance - 1))\n",
    "\n",
    "    # The order of visiting locations must be consistent with the binary representations\n",
    "    for j in range(num_items):\n",
    "        for i in range(num_items):\n",
    "            if i != j:\n",
    "                solver.add(Implies(x[i][j], binary_increment(u[i], u[j])))\n",
    "\n",
    "    '''\n",
    "    # Symmetry-breaking constraint: enforce a specific ordering of courier assignments\n",
    "    for i in range(num_items):\n",
    "        solver.add([Implies(v[i][k2], v[i][k1]) for k1 in range(num_couriers) for k2 in range(num_couriers) if k1 > k2])\n",
    "    '''\n",
    "    # Symmetry-breaking constraint: If courier i goes from the origin to location j, then i must be less than j, order of node assignment\n",
    "    solver.add(\n",
    "        [Implies(And(x[num_items][i], x[i][j]), i < j) for i in range(num_items) for j in range(num_items) if i != j])\n",
    "\n",
    "\n",
    "assign(m, n, l, s, D)"
   ],
   "metadata": {
    "colab": {
     "base_uri": "https://localhost:8080/"
    },
    "id": "slQaoHrZLvQ6",
    "outputId": "1d705353-386f-4a2c-eed8-c9cdd3128cca"
   },
   "execution_count": 491,
   "outputs": [
    {
     "output_type": "stream",
     "name": "stdout",
     "text": [
      "Courier Paths:\n",
      "------------------------------------------------------------\n",
      "Courier    Path                           Distance       \n",
      "------------------------------------------------------------\n",
      "20         0 > 3 > 28 > 1 > 32 > 0        599            \n",
      "16         0 > 6 > 58 > 51 > 0            248            \n",
      "6          0 > 8 > 0                      94             \n",
      "12         0 > 11 > 55 > 54 > 70 > 9 > 30 > 0 284            \n",
      "19         0 > 15 > 0                     136            \n",
      "4          0 > 18 > 69 > 14 > 0           206            \n",
      "5          0 > 24 > 25 > 22 > 36 > 21 > 4 > 31 > 0 603            \n",
      "7          0 > 27 > 33 > 10 > 7 > 71 > 57 > 20 > 19 > 0 877            \n",
      "10         0 > 29 > 44 > 0                146            \n",
      "1          0 > 34 > 0                     104            \n",
      "18         0 > 35 > 0                     110            \n",
      "2          0 > 38 > 63 > 26 > 13 > 46 > 5 > 2 > 0 695            \n",
      "14         0 > 39 > 42 > 40 > 0           234            \n",
      "3          0 > 41 > 50 > 17 > 52 > 59 > 12 > 47 > 65 > 16 > 53 > 68 > 23 > 37 > 62 > 48 > 0 1,101          \n",
      "9          0 > 43 > 45 > 49 > 61 > 0      383            \n",
      "13         0 > 56 > 0                     136            \n",
      "17         0 > 60 > 0                     88             \n",
      "15         0 > 64 > 0                     232            \n",
      "8          0 > 66 > 0                     26             \n",
      "11         0 > 67 > 0                     32             \n",
      "------------------------------------------------------------\n",
      "Total distance: 6,334\n",
      "Initial solution found with total distance: 6334\n",
      "Looking for solutions with total distance < 6334\n",
      "Courier Paths:\n",
      "------------------------------------------------------------\n",
      "Courier    Path                           Distance       \n",
      "------------------------------------------------------------\n",
      "3          0 > 1 > 38 > 17 > 0            652            \n",
      "2          0 > 6 > 9 > 50 > 12 > 61 > 52 > 69 > 64 > 62 > 25 > 57 > 19 > 14 > 0 1,127          \n",
      "18         0 > 15 > 54 > 11 > 41 > 37 > 0 408            \n",
      "10         0 > 20 > 0                     136            \n",
      "9          0 > 22 > 0                     116            \n",
      "6          0 > 24 > 0                     262            \n",
      "13         0 > 26 > 39 > 34 > 55 > 46 > 23 > 13 > 40 > 44 > 45 > 28 > 71 > 4 > 70 > 66 > 48 > 16 > 8 > 67 > 0 1,407          \n",
      "4          0 > 31 > 36 > 35 > 2 > 65 > 59 > 53 > 0 468            \n",
      "8          0 > 32 > 0                     112            \n",
      "17         0 > 49 > 60 > 33 > 42 > 63 > 5 > 21 > 29 > 43 > 47 > 7 > 27 > 10 > 58 > 0 954            \n",
      "19         0 > 51 > 0                     136            \n",
      "12         0 > 56 > 68 > 3 > 18 > 30 > 0  553            \n",
      "------------------------------------------------------------\n",
      "Total distance: 6,331\n",
      "Elapsed time: 30.92 seconds\n",
      "Remaining time: 269.08 seconds\n",
      "Looking for solutions with total distance < 6331\n",
      "Courier Paths:\n",
      "------------------------------------------------------------\n",
      "Courier    Path                           Distance       \n",
      "------------------------------------------------------------\n",
      "12         0 > 5 > 69 > 60 > 0            283            \n",
      "15         0 > 6 > 59 > 64 > 26 > 0       379            \n",
      "11         0 > 8 > 0                      94             \n",
      "19         0 > 9 > 52 > 71 > 2 > 18 > 0   352            \n",
      "13         0 > 11 > 37 > 0                125            \n",
      "7          0 > 12 > 28 > 0                236            \n",
      "17         0 > 13 > 61 > 53 > 19 > 70 > 0 279            \n",
      "5          0 > 14 > 15 > 29 > 7 > 22 > 10 > 0 565            \n",
      "8          0 > 23 > 47 > 0                240            \n",
      "3          0 > 27 > 62 > 25 > 16 > 3 > 0  262            \n",
      "16         0 > 30 > 46 > 17 > 66 > 0      287            \n",
      "4          0 > 32 > 0                     112            \n",
      "2          0 > 34 > 57 > 1 > 33 > 51 > 0  690            \n",
      "14         0 > 38 > 39 > 0                160            \n",
      "9          0 > 41 > 42 > 31 > 44 > 50 > 0 552            \n",
      "10         0 > 43 > 56 > 54 > 20 > 21 > 35 > 65 > 0 613            \n",
      "18         0 > 45 > 48 > 36 > 0           225            \n",
      "6          0 > 55 > 0                     36             \n",
      "1          0 > 58 > 67 > 4 > 24 > 49 > 40 > 68 > 0 612            \n",
      "20         0 > 63 > 0                     218            \n",
      "------------------------------------------------------------\n",
      "Total distance: 6,320\n",
      "Elapsed time: 30.29 seconds\n",
      "Remaining time: 238.79 seconds\n",
      "Looking for solutions with total distance < 6320\n",
      "Courier Paths:\n",
      "------------------------------------------------------------\n",
      "Courier    Path                           Distance       \n",
      "------------------------------------------------------------\n",
      "15         0 > 1 > 31 > 30 > 18 > 48 > 20 > 0 629            \n",
      "13         0 > 7 > 44 > 47 > 51 > 33 > 0  664            \n",
      "9          0 > 12 > 64 > 39 > 19 > 9 > 70 > 25 > 59 > 6 > 37 > 43 > 65 > 71 > 50 > 55 > 29 > 5 > 16 > 0 1,438          \n",
      "4          0 > 14 > 28 > 57 > 0           335            \n",
      "2          0 > 22 > 36 > 8 > 10 > 32 > 4 > 17 > 23 > 56 > 34 > 41 > 13 > 15 > 0 1,167          \n",
      "10         0 > 26 > 67 > 35 > 11 > 63 > 0 598            \n",
      "14         0 > 40 > 45 > 24 > 3 > 60 > 46 > 54 > 2 > 38 > 0 680            \n",
      "1          0 > 49 > 69 > 0                174            \n",
      "19         0 > 52 > 62 > 21 > 0           165            \n",
      "12         0 > 53 > 68 > 58 > 42 > 0      255            \n",
      "16         0 > 61 > 66 > 27 > 0           187            \n",
      "------------------------------------------------------------\n",
      "Total distance: 6,292\n",
      "Elapsed time: 42.74 seconds\n",
      "Remaining time: 196.04 seconds\n",
      "Looking for solutions with total distance < 6292\n",
      "Courier Paths:\n",
      "------------------------------------------------------------\n",
      "Courier    Path                           Distance       \n",
      "------------------------------------------------------------\n",
      "5          0 > 8 > 41 > 26 > 14 > 43 > 15 > 24 > 44 > 3 > 27 > 40 > 25 > 58 > 57 > 0 1,363          \n",
      "7          0 > 9 > 63 > 55 > 2 > 61 > 0   497            \n",
      "1          0 > 13 > 70 > 28 > 56 > 16 > 11 > 17 > 6 > 62 > 51 > 47 > 59 > 46 > 0 1,070          \n",
      "17         0 > 22 > 66 > 4 > 30 > 12 > 19 > 1 > 0 664            \n",
      "18         0 > 31 > 32 > 42 > 5 > 49 > 64 > 50 > 68 > 23 > 65 > 21 > 0 889            \n",
      "20         0 > 35 > 38 > 36 > 45 > 18 > 7 > 0 527            \n",
      "12         0 > 48 > 52 > 39 > 33 > 20 > 29 > 0 480            \n",
      "8          0 > 54 > 67 > 34 > 37 > 10 > 60 > 53 > 71 > 69 > 0 757            \n",
      "------------------------------------------------------------\n",
      "Total distance: 6,247\n",
      "Elapsed time: 99.19 seconds\n",
      "Remaining time: 96.85 seconds\n",
      "Looking for solutions with total distance < 6247\n",
      "Courier Paths:\n",
      "------------------------------------------------------------\n",
      "Courier    Path                           Distance       \n",
      "------------------------------------------------------------\n",
      "5          0 > 1 > 17 > 64 > 37 > 54 > 16 > 63 > 49 > 33 > 68 > 12 > 0 1,033          \n",
      "10         0 > 7 > 51 > 0                 170            \n",
      "1          0 > 15 > 69 > 22 > 2 > 58 > 0  384            \n",
      "12         0 > 18 > 70 > 0                142            \n",
      "11         0 > 23 > 46 > 13 > 66 > 3 > 52 > 56 > 0 647            \n",
      "9          0 > 26 > 57 > 0                397            \n",
      "2          0 > 31 > 50 > 21 > 45 > 10 > 0 640            \n",
      "3          0 > 32 > 42 > 40 > 6 > 41 > 36 > 27 > 29 > 60 > 9 > 20 > 55 > 11 > 14 > 61 > 43 > 47 > 24 > 0 1,260          \n",
      "13         0 > 35 > 65 > 4 > 0            277            \n",
      "8          0 > 39 > 0                     160            \n",
      "6          0 > 44 > 71 > 8 > 19 > 28 > 34 > 0 527            \n",
      "4          0 > 59 > 67 > 25 > 38 > 5 > 53 > 48 > 30 > 0 488            \n",
      "7          0 > 62 > 0                     94             \n",
      "------------------------------------------------------------\n",
      "Total distance: 6,219\n",
      "Elapsed time: 28.29 seconds\n",
      "Remaining time: 68.56 seconds\n",
      "Looking for solutions with total distance < 6219\n",
      "Courier Paths:\n",
      "------------------------------------------------------------\n",
      "Courier    Path                           Distance       \n",
      "------------------------------------------------------------\n",
      "9          0 > 2 > 46 > 53 > 0            264            \n",
      "1          0 > 3 > 22 > 54 > 45 > 28 > 0  270            \n",
      "20         0 > 6 > 20 > 10 > 16 > 0       381            \n",
      "13         0 > 8 > 40 > 0                 94             \n",
      "2          0 > 17 > 36 > 1 > 47 > 61 > 9 > 11 > 52 > 58 > 64 > 41 > 37 > 56 > 0 1,035          \n",
      "3          0 > 19 > 24 > 60 > 42 > 15 > 4 > 32 > 18 > 48 > 23 > 38 > 68 > 26 > 7 > 0 1,319          \n",
      "15         0 > 25 > 0                     68             \n",
      "11         0 > 27 > 67 > 30 > 0           146            \n",
      "19         0 > 29 > 31 > 0                217            \n",
      "5          0 > 33 > 51 > 0                344            \n",
      "4          0 > 35 > 49 > 65 > 57 > 34 > 63 > 5 > 69 > 50 > 21 > 43 > 13 > 0 1,240          \n",
      "10         0 > 39 > 62 > 55 > 14 > 70 > 59 > 12 > 0 449            \n",
      "16         0 > 44 > 66 > 0                130            \n",
      "12         0 > 71 > 0                     142            \n",
      "------------------------------------------------------------\n",
      "Total distance: 6,099\n",
      "Elapsed time: 108.15 seconds\n",
      "Remaining time: -39.59 seconds\n",
      "Time limit exceeded\n"
     ]
    },
    {
     "output_type": "execute_result",
     "data": {
      "text/plain": [
       "0"
      ]
     },
     "metadata": {},
     "execution_count": 491
    }
   ]
  },
  {
   "cell_type": "markdown",
   "source": [
    "## No symmetry breaking constraints"
   ],
   "metadata": {
    "id": "hDTYPHxtL1Rh"
   }
  },
  {
   "cell_type": "code",
   "source": [
    "def add_constraints(solver, x, v, u, num_couriers, num_items, max_loads, item_sizes, distance_matrix, max_distance):\n",
    "    # No route from itself to itself\n",
    "    solver.add([x[i][i] == False for i in range(num_items + 1)])\n",
    "\n",
    "    # Each location must be visited exactly once\n",
    "    solver.add([exactly_one([x[i][j] for j in range(num_items + 1)]) for i in range(num_items)])\n",
    "    solver.add([exactly_one([x[i][j] for i in range(num_items + 1)]) for j in range(num_items)])\n",
    "\n",
    "    # At most num_couriers couriers can start from the origin and return to the origin\n",
    "    solver.add(AtMost(*[x[num_items][j] for j in range(num_items)], num_couriers))\n",
    "    solver.add(AtMost(*[x[i][num_items] for i in range(num_items)], num_couriers))\n",
    "\n",
    "    # Each courier can start from the origin at most once. This means a courier can't start delivering from the origin more than once.\n",
    "    solver.add([AtMost(*[And(v[j][k], x[num_items][j]) for j in range(num_items)], 1) for k in range(num_couriers)])\n",
    "    # If courier i goes from location j to location k, then courier i must also carry item j\n",
    "    solver.add([Implies(x[i][j], v[i][k] == v[j][k]) for k in range(num_couriers) for i in range(num_items) for j in\n",
    "                range(num_items)])\n",
    "\n",
    "    # Each item must be carried by exactly one courier\n",
    "    solver.add([exactly_one(v[i]) for i in range(num_items)])\n",
    "\n",
    "    # The total size of items carried by each courier must not exceed the courier's max load\n",
    "    for k in range(num_couriers):\n",
    "        assert len(v) == num_items, \"The list v doesn't have num_items elements.\"\n",
    "        for sublist in v:\n",
    "            assert len(sublist) == num_couriers, \"One of the sublists in v doesn't have num_couriers elements.\"\n",
    "        assert len(item_sizes) == num_items, \"The list item_sizes doesn't have num_items elements.\"\n",
    "        assert len(max_loads) == num_couriers, \"The list max_loads doesn't have num_couriers elements.\"\n",
    "        solver.add(PbLe([(v[i][k], item_sizes[i]) for i in range(num_items)], max_loads[k]))\n",
    "\n",
    "    # The total distance travelled by the couriers must not exceed the max distance\n",
    "    solver.add(\n",
    "        PbLe([(x[i][j], distance_matrix[i, j]) for j in range(num_items + 1) for i in range(num_items + 1) if i != j],\n",
    "             max_distance - 1))\n",
    "\n",
    "    # The order of visiting locations must be consistent with the binary representations\n",
    "    for j in range(num_items):\n",
    "        for i in range(num_items):\n",
    "            if i != j:\n",
    "                solver.add(Implies(x[i][j], binary_increment(u[i], u[j])))\n",
    "\n",
    "\n",
    "assign(m, n, l, s, D)"
   ],
   "metadata": {
    "colab": {
     "base_uri": "https://localhost:8080/"
    },
    "id": "U25PjSIaL06c",
    "outputId": "a72ed482-06af-4252-a6da-7c18b6e8718e"
   },
   "execution_count": 492,
   "outputs": [
    {
     "output_type": "stream",
     "name": "stdout",
     "text": [
      "Courier Paths:\n",
      "------------------------------------------------------------\n",
      "Courier    Path                           Distance       \n",
      "------------------------------------------------------------\n",
      "5          0 > 16 > 71 > 64 > 69 > 41 > 51 > 9 > 0 735            \n",
      "4          0 > 20 > 68 > 57 > 38 > 0      580            \n",
      "2          0 > 27 > 15 > 13 > 1 > 2 > 39 > 61 > 53 > 29 > 47 > 19 > 45 > 55 > 6 > 44 > 26 > 14 > 66 > 0 1,705          \n",
      "12         0 > 31 > 10 > 35 > 34 > 0      272            \n",
      "19         0 > 32 > 0                     112            \n",
      "6          0 > 33 > 3 > 43 > 25 > 28 > 23 > 7 > 60 > 0 875            \n",
      "1          0 > 36 > 56 > 54 > 30 > 0      235            \n",
      "18         0 > 48 > 50 > 24 > 49 > 0      355            \n",
      "3          0 > 58 > 21 > 18 > 4 > 67 > 22 > 0 422            \n",
      "8          0 > 59 > 63 > 5 > 52 > 8 > 11 > 40 > 46 > 17 > 12 > 65 > 37 > 62 > 42 > 70 > 0 992            \n",
      "------------------------------------------------------------\n",
      "Total distance: 6,283\n",
      "Initial solution found with total distance: 6283\n",
      "Looking for solutions with total distance < 6283\n",
      "Courier Paths:\n",
      "------------------------------------------------------------\n",
      "Courier    Path                           Distance       \n",
      "------------------------------------------------------------\n",
      "7          0 > 9 > 62 > 51 > 0            285            \n",
      "16         0 > 10 > 37 > 21 > 32 > 0      346            \n",
      "2          0 > 25 > 3 > 67 > 70 > 45 > 55 > 58 > 42 > 65 > 69 > 36 > 56 > 4 > 0 821            \n",
      "20         0 > 34 > 41 > 19 > 7 > 5 > 16 > 43 > 61 > 0 713            \n",
      "10         0 > 35 > 13 > 0                199            \n",
      "13         0 > 39 > 20 > 33 > 6 > 63 > 17 > 28 > 14 > 8 > 1 > 0 1,091          \n",
      "3          0 > 47 > 44 > 60 > 71 > 2 > 66 > 0 487            \n",
      "17         0 > 49 > 0                     118            \n",
      "8          0 > 50 > 0                     212            \n",
      "5          0 > 52 > 46 > 68 > 26 > 24 > 22 > 0 464            \n",
      "6          0 > 53 > 0                     132            \n",
      "15         0 > 54 > 29 > 40 > 38 > 18 > 48 > 0 358            \n",
      "1          0 > 57 > 59 > 15 > 12 > 11 > 27 > 0 683            \n",
      "14         0 > 64 > 23 > 31 > 30 > 0      323            \n",
      "------------------------------------------------------------\n",
      "Total distance: 6,232\n",
      "Elapsed time: 26.59 seconds\n",
      "Remaining time: 273.41 seconds\n",
      "Looking for solutions with total distance < 6232\n",
      "Courier Paths:\n",
      "------------------------------------------------------------\n",
      "Courier    Path                           Distance       \n",
      "------------------------------------------------------------\n",
      "9          0 > 11 > 47 > 7 > 30 > 59 > 64 > 17 > 5 > 38 > 48 > 67 > 6 > 28 > 8 > 37 > 60 > 55 > 54 > 52 > 44 > 0 1,467          \n",
      "8          0 > 24 > 63 > 1 > 18 > 36 > 21 > 68 > 16 > 22 > 56 > 35 > 33 > 13 > 23 > 0 1,383          \n",
      "15         0 > 32 > 66 > 49 > 58 > 0      254            \n",
      "3          0 > 34 > 4 > 10 > 27 > 61 > 46 > 0 464            \n",
      "18         0 > 39 > 26 > 71 > 9 > 50 > 41 > 0 742            \n",
      "10         0 > 51 > 15 > 19 > 40 > 14 > 12 > 0 525            \n",
      "5          0 > 65 > 57 > 45 > 0           521            \n",
      "13         0 > 69 > 25 > 62 > 3 > 31 > 2 > 53 > 0 444            \n",
      "2          0 > 70 > 29 > 20 > 43 > 42 > 0 386            \n",
      "------------------------------------------------------------\n",
      "Total distance: 6,186\n",
      "Elapsed time: 75.89 seconds\n",
      "Remaining time: 197.52 seconds\n",
      "Looking for solutions with total distance < 6186\n",
      "Courier Paths:\n",
      "------------------------------------------------------------\n",
      "Courier    Path                           Distance       \n",
      "------------------------------------------------------------\n",
      "19         0 > 3 > 16 > 8 > 54 > 9 > 0    248            \n",
      "1          0 > 17 > 26 > 56 > 68 > 55 > 60 > 11 > 30 > 0 626            \n",
      "14         0 > 20 > 13 > 67 > 0           260            \n",
      "16         0 > 23 > 0                     240            \n",
      "7          0 > 27 > 52 > 0                201            \n",
      "11         0 > 33 > 31 > 21 > 22 > 40 > 53 > 47 > 6 > 42 > 71 > 0 830            \n",
      "8          0 > 35 > 38 > 39 > 37 > 29 > 1 > 5 > 19 > 0 766            \n",
      "20         0 > 41 > 69 > 15 > 64 > 24 > 34 > 2 > 62 > 36 > 0 888            \n",
      "6          0 > 43 > 7 > 61 > 25 > 0       218            \n",
      "18         0 > 46 > 0                     136            \n",
      "4          0 > 48 > 14 > 45 > 32 > 0      212            \n",
      "2          0 > 49 > 57 > 0                348            \n",
      "15         0 > 58 > 44 > 10 > 0           355            \n",
      "9          0 > 59 > 50 > 4 > 0            235            \n",
      "5          0 > 66 > 63 > 51 > 12 > 70 > 18 > 65 > 28 > 0 611            \n",
      "------------------------------------------------------------\n",
      "Total distance: 6,174\n",
      "Elapsed time: 45.07 seconds\n",
      "Remaining time: 152.45 seconds\n",
      "Looking for solutions with total distance < 6174\n",
      "Courier Paths:\n",
      "------------------------------------------------------------\n",
      "Courier    Path                           Distance       \n",
      "------------------------------------------------------------\n",
      "9          0 > 4 > 32 > 16 > 30 > 27 > 42 > 14 > 13 > 51 > 29 > 57 > 52 > 8 > 58 > 71 > 0 1,020          \n",
      "17         0 > 17 > 66 > 19 > 0           200            \n",
      "6          0 > 21 > 65 > 35 > 50 > 1 > 63 > 47 > 56 > 7 > 36 > 0 1,127          \n",
      "7          0 > 23 > 6 > 33 > 68 > 11 > 12 > 62 > 15 > 0 812            \n",
      "13         0 > 31 > 0                     128            \n",
      "19         0 > 39 > 59 > 0                264            \n",
      "2          0 > 40 > 38 > 10 > 44 > 25 > 53 > 22 > 0 470            \n",
      "4          0 > 43 > 26 > 0                209            \n",
      "11         0 > 45 > 2 > 0                 235            \n",
      "8          0 > 46 > 0                     136            \n",
      "12         0 > 48 > 0                     22             \n",
      "20         0 > 69 > 60 > 34 > 54 > 18 > 3 > 41 > 61 > 24 > 37 > 64 > 20 > 70 > 67 > 49 > 28 > 9 > 55 > 5 > 0 1,508          \n",
      "------------------------------------------------------------\n",
      "Total distance: 6,131\n",
      "Elapsed time: 43.77 seconds\n",
      "Remaining time: 108.68 seconds\n",
      "Looking for solutions with total distance < 6131\n",
      "Courier Paths:\n",
      "------------------------------------------------------------\n",
      "Courier    Path                           Distance       \n",
      "------------------------------------------------------------\n",
      "14         0 > 3 > 30 > 64 > 47 > 59 > 23 > 29 > 0 570            \n",
      "10         0 > 16 > 0                     162            \n",
      "19         0 > 31 > 56 > 69 > 0           225            \n",
      "13         0 > 36 > 13 > 68 > 61 > 24 > 39 > 7 > 53 > 2 > 35 > 71 > 8 > 6 > 58 > 37 > 54 > 46 > 45 > 33 > 17 > 27 > 52 > 55 > 0 2,002          \n",
      "1          0 > 40 > 70 > 18 > 51 > 11 > 9 > 5 > 4 > 25 > 14 > 44 > 0 659            \n",
      "4          0 > 41 > 12 > 1 > 0            368            \n",
      "3          0 > 43 > 28 > 20 > 49 > 60 > 42 > 15 > 21 > 48 > 67 > 10 > 32 > 22 > 62 > 0 906            \n",
      "5          0 > 57 > 34 > 66 > 0           366            \n",
      "11         0 > 63 > 38 > 19 > 0           406            \n",
      "15         0 > 65 > 26 > 50 > 0           415            \n",
      "------------------------------------------------------------\n",
      "Total distance: 6,079\n",
      "Elapsed time: 42.70 seconds\n",
      "Remaining time: 65.98 seconds\n",
      "Looking for solutions with total distance < 6079\n",
      "Courier Paths:\n",
      "------------------------------------------------------------\n",
      "Courier    Path                           Distance       \n",
      "------------------------------------------------------------\n",
      "11         0 > 2 > 0                      126            \n",
      "2          0 > 13 > 21 > 64 > 7 > 8 > 42 > 27 > 5 > 12 > 68 > 37 > 36 > 22 > 0 950            \n",
      "19         0 > 17 > 15 > 0                304            \n",
      "10         0 > 34 > 3 > 29 > 52 > 70 > 14 > 20 > 65 > 0 444            \n",
      "18         0 > 35 > 60 > 53 > 24 > 0      425            \n",
      "6          0 > 38 > 59 > 28 > 57 > 61 > 0 507            \n",
      "12         0 > 40 > 54 > 18 > 10 > 47 > 23 > 39 > 49 > 0 733            \n",
      "1          0 > 46 > 30 > 62 > 0           268            \n",
      "9          0 > 48 > 19 > 0                62             \n",
      "5          0 > 55 > 71 > 44 > 32 > 51 > 45 > 43 > 50 > 1 > 0 934            \n",
      "14         0 > 56 > 25 > 41 > 31 > 69 > 63 > 16 > 33 > 11 > 26 > 67 > 6 > 58 > 9 > 0 1,238          \n",
      "4          0 > 66 > 4 > 0                 87             \n",
      "------------------------------------------------------------\n",
      "Total distance: 6,078\n",
      "Elapsed time: 46.43 seconds\n",
      "Remaining time: 19.55 seconds\n",
      "Looking for solutions with total distance < 6078\n",
      "Courier Paths:\n",
      "------------------------------------------------------------\n",
      "Courier    Path                           Distance       \n",
      "------------------------------------------------------------\n",
      "2          0 > 2 > 22 > 0                 196            \n",
      "15         0 > 15 > 20 > 11 > 21 > 9 > 14 > 49 > 48 > 23 > 4 > 29 > 63 > 12 > 34 > 0 1,032          \n",
      "6          0 > 27 > 30 > 71 > 67 > 60 > 7 > 5 > 10 > 33 > 6 > 0 713            \n",
      "5          0 > 28 > 32 > 47 > 57 > 68 > 39 > 31 > 58 > 0 896            \n",
      "8          0 > 37 > 35 > 62 > 13 > 0      329            \n",
      "13         0 > 45 > 17 > 36 > 0           360            \n",
      "3          0 > 52 > 38 > 18 > 16 > 64 > 40 > 25 > 24 > 59 > 51 > 0 969            \n",
      "20         0 > 69 > 43 > 46 > 61 > 1 > 8 > 54 > 19 > 42 > 41 > 65 > 56 > 3 > 44 > 53 > 26 > 50 > 70 > 66 > 55 > 0 1,576          \n",
      "------------------------------------------------------------\n",
      "Total distance: 6,071\n",
      "Elapsed time: 92.89 seconds\n",
      "Remaining time: -73.34 seconds\n",
      "Time limit exceeded\n"
     ]
    },
    {
     "output_type": "execute_result",
     "data": {
      "text/plain": [
       "0"
      ]
     },
     "metadata": {},
     "execution_count": 492
    }
   ]
  },
  {
   "cell_type": "markdown",
   "source": [
    "## MIP Model"
   ],
   "metadata": {
    "id": "fdw2yA3-bVSD"
   }
  },
  {
   "cell_type": "markdown",
   "source": [
    "### Defining the constraints"
   ],
   "metadata": {
    "id": "c-E127frdL7p"
   }
  },
  {
   "cell_type": "code",
   "source": [
    "# Function to add constraints to the model\n",
    "def add_constraints(mdl, num_items, num_couriers, Vertices, Items, Arcs, x, l, courier_assignment, aux_vars, item_loads,\n",
    "                    max_loads):\n",
    "    # Only one connection into point i\n",
    "    mdl.addConstrs(quicksum(x[i, j] for j in Vertices if j != i) == 1 for i in Items)\n",
    "\n",
    "    # Only one edge out of point i\n",
    "    mdl.addConstrs(quicksum(x[i, j] for i in Vertices if i != j) == 1 for j in Items)\n",
    "\n",
    "    # No more than \"num_couriers\" departures from the depot\n",
    "    mdl.addConstr(quicksum(x[0, j] for j in Items) == num_couriers)\n",
    "\n",
    "    # Same number of couriers leaving and arriving to the depot\n",
    "    mdl.addConstr(quicksum(x[0, j] for j in Items) == quicksum(x[j, 0] for j in Items))\n",
    "\n",
    "    # Sub-tour elimination\n",
    "    mdl.addConstr(l[0] == 1)\n",
    "    mdl.addConstrs((l[i] + x[i, j]) <= (l[j] + num_items * (1 - x[i, j])) for i, j in Arcs if j != 0)\n",
    "\n",
    "    # Constraints related to courier\n",
    "    for k in range(num_couriers):\n",
    "        mdl.addConstrs((aux_vars[i][k] <= courier_assignment[i][k]) for i in Items)\n",
    "        mdl.addConstrs((aux_vars[i][k] <= x[0, i]) for i in Items)\n",
    "        mdl.addConstrs((aux_vars[i][k] >= courier_assignment[i][k] + x[0, i] - 1) for i in Items)\n",
    "        mdl.addConstr(quicksum(aux_vars[i][k] for i in Items) <= 1)\n",
    "\n",
    "        # If x[i,j] = True, i,j share the same courier\n",
    "        for i, j in Arcs:\n",
    "            if i != 0 and j != 0:\n",
    "                mdl.addConstr(x[i, j] + courier_assignment[i][k] - courier_assignment[j][k] <= 1)\n",
    "                mdl.addConstr(x[i, j] - courier_assignment[i][k] + courier_assignment[j][k] <= 1)\n",
    "\n",
    "    # Every item should be visited by exactly one courier\n",
    "    mdl.addConstrs(quicksum(courier_assignment[i][k] for k in range(num_couriers)) == 1 for i in Items)\n",
    "\n",
    "    # The total load of items served by each courier cannot exceed the courier's capacity\n",
    "    mdl.addConstrs(quicksum(item_loads[i - 1] * courier_assignment[i][k] for i in Items) <= max_loads[k] for k in\n",
    "                   range(num_couriers))"
   ],
   "metadata": {
    "id": "kDOKxZ6HdPGR",
    "ExecuteTime": {
     "end_time": "2023-07-09T10:31:20.304050900Z",
     "start_time": "2023-07-09T10:31:19.498688600Z"
    }
   },
   "execution_count": 19,
   "outputs": []
  },
  {
   "cell_type": "markdown",
   "source": [
    "### Creating the model"
   ],
   "metadata": {
    "id": "Y12BUJOMdQtp"
   }
  },
  {
   "cell_type": "code",
   "source": [
    "# Function to create the Gurobi model\n",
    "def create_model(num_items, num_couriers, item_loads, item_sizes, distance_matrix):\n",
    "    Items = [i for i in range(1, num_items + 1)]\n",
    "    # Define the set of vertices, including the depot\n",
    "    Vertices = [0] + Items\n",
    "    Arcs = [(i, j) for i in Vertices for j in Vertices if i != j]\n",
    "\n",
    "    Couriers_encoding = [i for i in range(num_couriers)]\n",
    "    courier_assignment = {}\n",
    "    aux_vars = {}\n",
    "\n",
    "    mdl = Model('CVRP')\n",
    "\n",
    "    # Define variables\n",
    "    x = mdl.addVars(Arcs, vtype=GRB.BINARY)\n",
    "    l = mdl.addVars(Vertices, lb=0, ub=num_items, vtype=GRB.INTEGER)\n",
    "    for i in range(1, num_items + 1):\n",
    "        courier_assignment[i] = mdl.addVars(Couriers_encoding, vtype=GRB.BINARY)\n",
    "        aux_vars[i] = mdl.addVars(Couriers_encoding, vtype=GRB.INTEGER)\n",
    "\n",
    "    # Objective function\n",
    "    mdl.modelSense = GRB.MINIMIZE\n",
    "    mdl.setObjective(quicksum(x[i, j] * distance_matrix[i, j] for (i, j) in Arcs))\n",
    "\n",
    "    # Constraints\n",
    "    add_constraints(mdl, num_items, num_couriers, Vertices, Items, Arcs, x, l, courier_assignment, aux_vars, item_loads,\n",
    "                    item_sizes)\n",
    "\n",
    "    # Solver settings\n",
    "    mdl.params.ScaleFlag = 1\n",
    "    mdl.params.MIPFocus = 1\n",
    "    mdl.Params.TimeLimit = 300\n",
    "\n",
    "    return mdl, x, courier_assignment, Items, Vertices\n",
    "\n"
   ],
   "metadata": {
    "id": "ZheJ2F67dbh7",
    "ExecuteTime": {
     "end_time": "2023-07-09T10:46:54.382096900Z",
     "start_time": "2023-07-09T10:46:54.362039300Z"
    }
   },
   "execution_count": 30,
   "outputs": []
  },
  {
   "cell_type": "markdown",
   "source": [
    "### Displaying the Optimization Results"
   ],
   "metadata": {
    "id": "WW3GzT_3fZ7W"
   }
  },
  {
   "cell_type": "code",
   "source": [
    "def handle_solution(mdl, x, courier_assignment, Items, Vertices, num_couriers):\n",
    "    tours = {}\n",
    "    for i in Items:\n",
    "        try:\n",
    "            x[(0, i)].x > 0.1\n",
    "        except AttributeError:\n",
    "            print(\"Total distance: N/A\")\n",
    "            break\n",
    "        if x[(0, i)].x > 0.9:\n",
    "            for k in range(num_couriers):\n",
    "                if int(str(courier_assignment[i][k])[-6:-4]) > 0:\n",
    "                    temp = k\n",
    "            temp += 1\n",
    "            tours[temp] = []\n",
    "            path = [0, i]\n",
    "            while i != 0:\n",
    "                j = i\n",
    "                for k in Vertices:\n",
    "                    if j != k and x[(j, k)].x > 0.9:\n",
    "                        path.append(k)\n",
    "                        i = k\n",
    "            tours[temp].append(path)\n",
    "\n",
    "    sols = []\n",
    "    for key in tours.keys():\n",
    "        sol = []\n",
    "        path_str = str(tours[key])\n",
    "        path_str = path_str.replace(\"[\", \"\")\n",
    "        path_str = path_str.replace(\"]\", \"\")\n",
    "        path_str = path_str.replace(\", \", \" > \")\n",
    "        tours[key] = path_str\n",
    "\n",
    "        for i in tours[key]:\n",
    "            if i != '0' and i != '>' and i != ' ':\n",
    "                sol.append(int(i))\n",
    "        sols.append(sol)\n",
    "\n",
    "    tour_ids = [i for i in tours.keys()]\n",
    "    print(\"Planned Tours:\")\n",
    "\n",
    "    for tour_id in sorted(tour_ids):\n",
    "        print(\"Tour \" + str(tour_id) + \":\")\n",
    "        print(tours[tour_id])\n",
    "\n",
    "    print(\"---------------------------\")\n",
    "    try:\n",
    "        print(\"Total distance:\", int(mdl.ObjVal))\n",
    "    except OverflowError:\n",
    "        print(\"Total distance: N/A\")\n",
    "\n",
    "    return int(mdl.ObjVal), sols"
   ],
   "metadata": {
    "id": "ZZDzeSOH7Eg-",
    "ExecuteTime": {
     "end_time": "2023-07-09T12:09:51.222077500Z",
     "start_time": "2023-07-09T12:09:51.214770300Z"
    }
   },
   "execution_count": 71,
   "outputs": []
  },
  {
   "cell_type": "markdown",
   "source": [
    "### Executing Item Assignment and Route Optimization for the MIP Model"
   ],
   "metadata": {
    "id": "0Zx4DhwwfH3F"
   }
  },
  {
   "cell_type": "code",
   "source": [
    "def assign(num_items, num_couriers, item_loads, max_loads, distance_matrix):\n",
    "    # Create distance matrix\n",
    "    Dist = np.array(distance_matrix)\n",
    "\n",
    "    # Create Gurobi model\n",
    "    mdl, x, courier_assignment, Items, Vertices = create_model(num_items, num_couriers, item_loads, max_loads, Dist)\n",
    "\n",
    "    # Optimize model\n",
    "    mdl.optimize()\n",
    "\n",
    "    # Print solution\n",
    "    obj, sols = handle_solution(mdl, x, courier_assignment, Items, Vertices, num_couriers)\n",
    "\n",
    "    return obj, sols\n",
    "\n",
    "\n",
    "assign(n, m, s, l, D)"
   ],
   "metadata": {
    "id": "9euNUz_efDOp",
    "ExecuteTime": {
     "end_time": "2023-07-09T11:48:00.400800800Z",
     "start_time": "2023-07-09T11:48:00.199143Z"
    }
   },
   "execution_count": 55,
   "outputs": [
    {
     "name": "stdout",
     "output_type": "stream",
     "text": [
      "Set parameter ScaleFlag to value 1\n",
      "Set parameter MIPFocus to value 1\n",
      "Set parameter TimeLimit to value 300\n",
      "Gurobi Optimizer version 10.0.2 build v10.0.2rc0 (win64)\n",
      "\n",
      "CPU model: AMD Ryzen 7 5700U with Radeon Graphics, instruction set [SSE2|AVX|AVX2]\n",
      "Thread count: 8 physical cores, 16 logical processors, using up to 16 threads\n",
      "\n"
     ]
    },
    {
     "ename": "GurobiError",
     "evalue": "Model too large for size-limited license; visit https://www.gurobi.com/free-trial for a full license",
     "output_type": "error",
     "traceback": [
      "\u001B[1;31m---------------------------------------------------------------------------\u001B[0m",
      "\u001B[1;31mGurobiError\u001B[0m                               Traceback (most recent call last)",
      "Cell \u001B[1;32mIn[55], line 17\u001B[0m\n\u001B[0;32m     12\u001B[0m     obj, sols \u001B[38;5;241m=\u001B[39m handle_solution(mdl, x, courier_assignment, Items, Vertices, num_couriers)\n\u001B[0;32m     14\u001B[0m     \u001B[38;5;28;01mreturn\u001B[39;00m obj, sols\n\u001B[1;32m---> 17\u001B[0m \u001B[43massign\u001B[49m\u001B[43m(\u001B[49m\u001B[43mn\u001B[49m\u001B[43m,\u001B[49m\u001B[43m \u001B[49m\u001B[43mm\u001B[49m\u001B[43m,\u001B[49m\u001B[43m \u001B[49m\u001B[43ms\u001B[49m\u001B[43m,\u001B[49m\u001B[43m \u001B[49m\u001B[43ml\u001B[49m\u001B[43m,\u001B[49m\u001B[43m \u001B[49m\u001B[43mD\u001B[49m\u001B[43m)\u001B[49m\n",
      "Cell \u001B[1;32mIn[55], line 9\u001B[0m, in \u001B[0;36massign\u001B[1;34m(num_items, num_couriers, item_loads, max_loads, distance_matrix)\u001B[0m\n\u001B[0;32m      6\u001B[0m mdl, x, courier_assignment, Items, Vertices \u001B[38;5;241m=\u001B[39m create_model(num_items, num_couriers, item_loads, max_loads, Dist)\n\u001B[0;32m      8\u001B[0m \u001B[38;5;66;03m# Optimize model\u001B[39;00m\n\u001B[1;32m----> 9\u001B[0m \u001B[43mmdl\u001B[49m\u001B[38;5;241;43m.\u001B[39;49m\u001B[43moptimize\u001B[49m\u001B[43m(\u001B[49m\u001B[43m)\u001B[49m\n\u001B[0;32m     11\u001B[0m \u001B[38;5;66;03m# Print solution\u001B[39;00m\n\u001B[0;32m     12\u001B[0m obj, sols \u001B[38;5;241m=\u001B[39m handle_solution(mdl, x, courier_assignment, Items, Vertices, num_couriers)\n",
      "File \u001B[1;32msrc\\gurobipy\\model.pxi:878\u001B[0m, in \u001B[0;36mgurobipy.Model.optimize\u001B[1;34m()\u001B[0m\n",
      "\u001B[1;31mGurobiError\u001B[0m: Model too large for size-limited license; visit https://www.gurobi.com/free-trial for a full license"
     ]
    }
   ]
  },
  {
   "cell_type": "code",
   "execution_count": 80,
   "outputs": [
    {
     "name": "stdout",
     "output_type": "stream",
     "text": [
      "-----11-----\n",
      "Set parameter ScaleFlag to value 1\n",
      "Set parameter MIPFocus to value 1\n",
      "Set parameter TimeLimit to value 300\n",
      "Gurobi Optimizer version 10.0.2 build v10.0.2rc0 (win64)\n",
      "\n",
      "CPU model: AMD Ryzen 7 5700U with Radeon Graphics, instruction set [SSE2|AVX|AVX2]\n",
      "Thread count: 8 physical cores, 16 logical processors, using up to 16 threads\n",
      "\n"
     ]
    },
    {
     "ename": "GurobiError",
     "evalue": "Model too large for size-limited license; visit https://www.gurobi.com/free-trial for a full license",
     "output_type": "error",
     "traceback": [
      "\u001B[1;31m---------------------------------------------------------------------------\u001B[0m",
      "\u001B[1;31mGurobiError\u001B[0m                               Traceback (most recent call last)",
      "Cell \u001B[1;32mIn[80], line 16\u001B[0m\n\u001B[0;32m     13\u001B[0m data_name \u001B[38;5;241m=\u001B[39m \u001B[38;5;124m\"\u001B[39m\u001B[38;5;124m0\u001B[39m\u001B[38;5;124m\"\u001B[39m \u001B[38;5;241m+\u001B[39m \u001B[38;5;28mstr\u001B[39m(i\u001B[38;5;241m+\u001B[39m\u001B[38;5;241m1\u001B[39m) \u001B[38;5;28;01mif\u001B[39;00m i \u001B[38;5;241m<\u001B[39m \u001B[38;5;241m10\u001B[39m \u001B[38;5;28;01melse\u001B[39;00m \u001B[38;5;28mstr\u001B[39m(i\u001B[38;5;241m+\u001B[39m\u001B[38;5;241m1\u001B[39m)\n\u001B[0;32m     15\u001B[0m time_before \u001B[38;5;241m=\u001B[39m time\u001B[38;5;241m.\u001B[39mtime()\n\u001B[1;32m---> 16\u001B[0m obj, tours \u001B[38;5;241m=\u001B[39m \u001B[43massign\u001B[49m\u001B[43m(\u001B[49m\u001B[43mn\u001B[49m\u001B[43m,\u001B[49m\u001B[43m \u001B[49m\u001B[43mm\u001B[49m\u001B[43m,\u001B[49m\u001B[43m \u001B[49m\u001B[43ms\u001B[49m\u001B[43m,\u001B[49m\u001B[43m \u001B[49m\u001B[43ml\u001B[49m\u001B[43m,\u001B[49m\u001B[43m \u001B[49m\u001B[43mD\u001B[49m\u001B[43m)\u001B[49m\n\u001B[0;32m     17\u001B[0m out[\u001B[38;5;124m\"\u001B[39m\u001B[38;5;124mtime\u001B[39m\u001B[38;5;124m\"\u001B[39m] \u001B[38;5;241m=\u001B[39m floor((time\u001B[38;5;241m.\u001B[39mtime() \u001B[38;5;241m-\u001B[39m time_before)\u001B[38;5;241m/\u001B[39m\u001B[38;5;241m1000\u001B[39m)\n\u001B[0;32m     18\u001B[0m out[\u001B[38;5;124m\"\u001B[39m\u001B[38;5;124mobj\u001B[39m\u001B[38;5;124m\"\u001B[39m] \u001B[38;5;241m=\u001B[39m obj\n",
      "Cell \u001B[1;32mIn[55], line 9\u001B[0m, in \u001B[0;36massign\u001B[1;34m(num_items, num_couriers, item_loads, max_loads, distance_matrix)\u001B[0m\n\u001B[0;32m      6\u001B[0m mdl, x, courier_assignment, Items, Vertices \u001B[38;5;241m=\u001B[39m create_model(num_items, num_couriers, item_loads, max_loads, Dist)\n\u001B[0;32m      8\u001B[0m \u001B[38;5;66;03m# Optimize model\u001B[39;00m\n\u001B[1;32m----> 9\u001B[0m \u001B[43mmdl\u001B[49m\u001B[38;5;241;43m.\u001B[39;49m\u001B[43moptimize\u001B[49m\u001B[43m(\u001B[49m\u001B[43m)\u001B[49m\n\u001B[0;32m     11\u001B[0m \u001B[38;5;66;03m# Print solution\u001B[39;00m\n\u001B[0;32m     12\u001B[0m obj, sols \u001B[38;5;241m=\u001B[39m handle_solution(mdl, x, courier_assignment, Items, Vertices, num_couriers)\n",
      "File \u001B[1;32msrc\\gurobipy\\model.pxi:878\u001B[0m, in \u001B[0;36mgurobipy.Model.optimize\u001B[1;34m()\u001B[0m\n",
      "\u001B[1;31mGurobiError\u001B[0m: Model too large for size-limited license; visit https://www.gurobi.com/free-trial for a full license"
     ]
    }
   ],
   "source": [
    "path_res = getcwd() + \"\\\\res\\\\MIP\\\\\"\n",
    "\n",
    "for i in range(11, 21):\n",
    "    print(\"-\" * 5 + str(i) + \"-\" * 5)\n",
    "    data = data_list[i]\n",
    "    m = data['m']  # num_couriers\n",
    "    n = data['n']  # num_items\n",
    "    l = data['l']  # courier_loads\n",
    "    s = data['s']  # item_sizes\n",
    "    D = data['D']  # distance_matrix\n",
    "\n",
    "    out = {}\n",
    "    data_name = \"0\" + str(i + 1) if i < 10 else str(i + 1)\n",
    "\n",
    "    time_before = time.time()\n",
    "    obj, tours = assign(n, m, s, l, D)\n",
    "    out[\"time\"] = floor((time.time() - time_before) / 1000)\n",
    "    out[\"obj\"] = obj\n",
    "    out[\"sol\"] = tours\n",
    "\n",
    "    with open(path_res + data_name + \".txt\", 'w') as f:\n",
    "        json.dump(out, f, ensure_ascii=False, indent=4)\n",
    "    #print(tours)"
   ],
   "metadata": {
    "collapsed": false,
    "ExecuteTime": {
     "end_time": "2023-07-09T12:12:47.438930500Z",
     "start_time": "2023-07-09T12:12:34.845763100Z"
    }
   }
  }
 ],
 "metadata": {
  "kernelspec": {
   "name": "python3",
   "language": "python",
   "display_name": "Python 3 (ipykernel)"
  },
  "language_info": {
   "codemirror_mode": {
    "name": "ipython",
    "version": 3
   },
   "file_extension": ".py",
   "mimetype": "text/x-python",
   "name": "python",
   "nbconvert_exporter": "python",
   "pygments_lexer": "ipython3",
   "version": "3.8.14"
  },
  "orig_nbformat": 4,
  "vscode": {
   "interpreter": {
    "hash": "949777d72b0d2535278d3dc13498b2535136f6dfe0678499012e853ee9abcab1"
   }
  },
  "colab": {
   "provenance": [],
   "gpuType": "T4",
   "collapsed_sections": [
    "CMmBSWmXbbsU",
    "klw1GGBIbf4P",
    "jRLwya47clat"
   ]
  },
  "accelerator": "GPU"
 },
 "nbformat": 4,
 "nbformat_minor": 0
}
