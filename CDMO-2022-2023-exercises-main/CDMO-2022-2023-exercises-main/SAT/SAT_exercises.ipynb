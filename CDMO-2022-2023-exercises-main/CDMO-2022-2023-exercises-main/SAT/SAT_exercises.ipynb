{
 "cells": [
  {
   "cell_type": "markdown",
   "id": "accessory-couple",
   "metadata": {},
   "source": [
    "# Z3 SAT Exercises\n",
    "\n",
    "> Before trying to solve the exercises contained in this notebook, the reader is suggested to have gained experience with the tool through the `Tutorial.ipynb` notebook."
   ]
  },
  {
   "cell_type": "code",
   "execution_count": 1,
   "id": "17060a22",
   "metadata": {},
   "outputs": [
    {
     "name": "stderr",
     "output_type": "stream",
     "text": [
      "\n",
      "[notice] A new release of pip available: 22.2.2 -> 23.0.1\n",
      "[notice] To update, run: python.exe -m pip install --upgrade pip\n"
     ]
    },
    {
     "name": "stdout",
     "output_type": "stream",
     "text": [
      "Requirement already satisfied: z3-solver in c:\\python310\\lib\\site-packages (4.12.1.0)\n"
     ]
    }
   ],
   "source": [
    "!pip3 install z3-solver"
   ]
  },
  {
   "cell_type": "code",
   "execution_count": 8,
   "id": "fuzzy-intersection",
   "metadata": {
    "ExecuteTime": {
     "end_time": "2023-07-09T13:07:22.094830900Z",
     "start_time": "2023-07-09T13:07:22.084490200Z"
    }
   },
   "outputs": [],
   "source": [
    "from itertools import combinations\n",
    "import z3\n",
    "from utils import *"
   ]
  },
  {
   "cell_type": "markdown",
   "id": "f25d8a5b",
   "metadata": {},
   "source": [
    "## Useful contraints"
   ]
  },
  {
   "cell_type": "code",
   "execution_count": 9,
   "id": "f81eab93",
   "metadata": {
    "ExecuteTime": {
     "end_time": "2023-07-09T13:07:24.041506300Z",
     "start_time": "2023-07-09T13:07:24.032008600Z"
    }
   },
   "outputs": [],
   "source": [
    "def at_least_one(bool_vars):\n",
    "    for el in bool_vars:\n",
    "        if el:\n",
    "            return True\n",
    "    return False\n",
    "\n",
    "def at_most_one(bool_vars):\n",
    "    for el in combinations(bool_vars):\n",
    "        if el and el:\n",
    "            return False\n",
    "    return True\n",
    "\n",
    "def exactly_one(bool_vars):\n",
    "    i = 0\n",
    "    for el in bool_vars:\n",
    "        if el:\n",
    "            if i > 0:\n",
    "                return False\n",
    "            else:\n",
    "                i+=1\n",
    "    return True"
   ]
  },
  {
   "cell_type": "markdown",
   "id": "8191d230",
   "metadata": {},
   "source": [
    "## Knights and Knaves"
   ]
  },
  {
   "cell_type": "code",
   "execution_count": 11,
   "id": "422111cc",
   "metadata": {
    "ExecuteTime": {
     "end_time": "2023-07-09T13:07:29.683808200Z",
     "start_time": "2023-07-09T13:07:29.651121300Z"
    }
   },
   "outputs": [
    {
     "ename": "NameError",
     "evalue": "name 'Bool' is not defined",
     "output_type": "error",
     "traceback": [
      "\u001B[1;31m---------------------------------------------------------------------------\u001B[0m",
      "\u001B[1;31mNameError\u001B[0m                                 Traceback (most recent call last)",
      "Cell \u001B[1;32mIn[11], line 4\u001B[0m\n\u001B[0;32m      1\u001B[0m \u001B[38;5;28;01mdef\u001B[39;00m \u001B[38;5;21mis_knight\u001B[39m(\u001B[38;5;28mbool\u001B[39m):\n\u001B[0;32m      2\u001B[0m     \u001B[38;5;28;01mreturn\u001B[39;00m \u001B[38;5;28mstr\u001B[39m(\u001B[38;5;28mbool\u001B[39m) \u001B[38;5;241m==\u001B[39m \u001B[38;5;124m\"\u001B[39m\u001B[38;5;124mknight\u001B[39m\u001B[38;5;124m\"\u001B[39m\n\u001B[1;32m----> 4\u001B[0m AisKnight \u001B[38;5;241m=\u001B[39m \u001B[43mBool\u001B[49m(\u001B[38;5;124m'\u001B[39m\u001B[38;5;124mknight\u001B[39m\u001B[38;5;124m'\u001B[39m)\n\u001B[0;32m      5\u001B[0m BisKnight \u001B[38;5;241m=\u001B[39m Bool(\u001B[38;5;124m'\u001B[39m\u001B[38;5;124mknave\u001B[39m\u001B[38;5;124m'\u001B[39m)\n\u001B[0;32m      6\u001B[0m s \u001B[38;5;241m=\u001B[39m Solver()\n",
      "\u001B[1;31mNameError\u001B[0m: name 'Bool' is not defined"
     ]
    }
   ],
   "source": [
    "def is_knight(bool):\n",
    "    return str(bool) == \"knight\"\n",
    "\n",
    "AisKnight = Bool('knight')\n",
    "BisKnight = Bool('knave')\n",
    "s = Solver()\n",
    "\n",
    "z3.\n",
    "\n",
    "AisKnight = is_knight(AisKnight)\n",
    "#BisKnight = is_knight(BisKnight)\n",
    "# Unicity check\n",
    "s.add(Not(And(AisKnight, BisKnight)))\n",
    "print(s.check())\n",
    "s.model()\n",
    "\n",
    "# Check model is sat"
   ]
  },
  {
   "cell_type": "markdown",
   "id": "048d1ab0",
   "metadata": {},
   "source": [
    "## Coloring graph"
   ]
  },
  {
   "cell_type": "markdown",
   "id": "db9932e4",
   "metadata": {},
   "source": [
    "Another famous problem is the [coloring graph](https://www.google.com/url?sa=t&rct=j&q=&esrc=s&source=web&cd=&cad=rja&uact=8&ved=2ahUKEwjAlpGV4az2AhUP2aQKHY_5BQwQFnoECAQQAQ&url=https%3A%2F%2Fen.wikipedia.org%2Fwiki%2FGraph_coloring&usg=AOvVaw0F_XS2AN3uz4G-IJx5Q8j0). \n",
    "\n",
    "Given a graph $({v_1,...,v_n},E)$ and $d$ colors, we need to assign a color to each vertex, s.t. if $(v_i,v_j) ∈ E$ then color of $v_i$ is different from color of $v_j$. "
   ]
  },
  {
   "cell_type": "code",
   "execution_count": 119,
   "id": "8c485f56",
   "metadata": {},
   "outputs": [],
   "source": [
    "def coloring_graph_sat(n, d, E):\n",
    "    # Create the variables, x_i_j = 1 iff vertex i is colored with color j.\n",
    "    bool_vertex =  [Int('x_{}_{}'.format(k,i)) for k in range(d) for i in range(n)]\n",
    "    # Solver instance\n",
    "    s = Solver()\n",
    "    # Each vertex has at least one color\n",
    "\n",
    "    for i in range(n):\n",
    "        vertex_c = [Or(bool_vertex[i*d + k] == 1) for k in range(d)]\n",
    "        s.add(vertex_c)\n",
    "\n",
    "    # Each edge must have different colors in its vertices\n",
    "    for el in combinations(bool_vertex,2):\n",
    "        s.add(Not(Distinct(el[0],el[1])))\n",
    "    # Check model\n",
    "    print(s.check())\n",
    "    print(s.model())"
   ]
  },
  {
   "cell_type": "code",
   "execution_count": 80,
   "id": "efdbca29",
   "metadata": {},
   "outputs": [],
   "source": [
    "instance1 = {\n",
    "        \"n\" : 5,\n",
    "        \"d\": 3,\n",
    "        \"E\" : [\n",
    "            (0, 2),\n",
    "            (0, 4),\n",
    "            (1, 2),\n",
    "            (1, 4),\n",
    "            (2, 3), \n",
    "            (3, 4)\n",
    "        ]\n",
    "    }\n",
    "instance2 = {\n",
    "        \"n\":10,\n",
    "        \"d\":3,\n",
    "        \"E\":[\n",
    "            (0, 1),\n",
    "            (0, 4),\n",
    "            (0, 5),\n",
    "            (1, 2),\n",
    "            (1, 6),\n",
    "            (2, 7),\n",
    "            (2, 3),\n",
    "            (3, 8),\n",
    "            (3, 4),\n",
    "            (4, 9),\n",
    "            (9, 6),\n",
    "            (9, 7),\n",
    "            (6, 8),\n",
    "            (5, 7),\n",
    "            (5, 8), \n",
    "        ]\n",
    "}"
   ]
  },
  {
   "cell_type": "code",
   "execution_count": 120,
   "id": "acdb4f25",
   "metadata": {},
   "outputs": [
    {
     "name": "stdout",
     "output_type": "stream",
     "text": [
      "sat\n",
      "[x_2_4 = 1,\n",
      " x_2_0 = 1,\n",
      " x_1_0 = 1,\n",
      " x_1_1 = 1,\n",
      " x_0_0 = 1,\n",
      " x_2_2 = 1,\n",
      " x_0_3 = 1,\n",
      " x_2_1 = 1,\n",
      " x_1_3 = 1,\n",
      " x_1_2 = 1,\n",
      " x_2_3 = 1,\n",
      " x_0_2 = 1,\n",
      " x_0_4 = 1,\n",
      " x_0_1 = 1,\n",
      " x_1_4 = 1]\n"
     ]
    }
   ],
   "source": [
    "instance = instance1\n",
    "coloring_graph_sat(instance[\"n\"], instance[\"d\"], instance[\"E\"])\n"
   ]
  },
  {
   "cell_type": "code",
   "execution_count": 87,
   "id": "bfc66aac",
   "metadata": {},
   "outputs": [
    {
     "data": {
      "text/plain": "<Figure size 432x288 with 1 Axes>",
      "image/png": "[encoded data removed]"
     },
     "metadata": {},
     "output_type": "display_data"
    }
   ],
   "source": [
    "display_color_graph(E = instance[\"E\"])"
   ]
  },
  {
   "cell_type": "code",
   "execution_count": 121,
   "id": "acf333f6",
   "metadata": {},
   "outputs": [
    {
     "name": "stdout",
     "output_type": "stream",
     "text": [
      "sat\n",
      "[x_2_4 = 1,\n",
      " x_2_0 = 1,\n",
      " x_1_0 = 1,\n",
      " x_1_1 = 1,\n",
      " x_0_0 = 1,\n",
      " x_2_2 = 1,\n",
      " x_0_3 = 1,\n",
      " x_2_1 = 1,\n",
      " x_1_3 = 1,\n",
      " x_1_2 = 1,\n",
      " x_2_3 = 1,\n",
      " x_0_2 = 1,\n",
      " x_0_4 = 1,\n",
      " x_0_1 = 1,\n",
      " x_1_4 = 1]\n",
      "CPU times: total: 46.9 ms\n",
      "Wall time: 52.6 ms\n"
     ]
    },
    {
     "data": {
      "text/plain": "<Figure size 432x288 with 1 Axes>",
      "image/png": "[encoded data removed]"
     },
     "metadata": {},
     "output_type": "display_data"
    }
   ],
   "source": [
    "%%time\n",
    "display_color_graph(sol = coloring_graph_sat(instance[\"n\"], instance[\"d\"], instance[\"E\"]), E = instance[\"E\"])"
   ]
  },
  {
   "cell_type": "markdown",
   "id": "50a7ea52",
   "metadata": {},
   "source": [
    "## N-Queens"
   ]
  },
  {
   "cell_type": "markdown",
   "id": "d18ea08c",
   "metadata": {},
   "source": [
    "The [n-queens problem](https://en.wikipedia.org/wiki/Eight_queens_puzzle) is the problem of placing n chess queens in a $nxn$ chessboard so that no two queens threaten each other. In light of this, the solution requires that no two queens share the same row, column, or diagonal."
   ]
  },
  {
   "cell_type": "code",
   "execution_count": null,
   "id": "7f070a1e",
   "metadata": {},
   "outputs": [],
   "source": [
    "def nqueens_sat(n):\n",
    "    # Create all the variables\n",
    "\n",
    "    # Create the solver instance\n",
    "\n",
    "    # At least one on each row and column\n",
    "\n",
    "    # At most one on each row and column\n",
    "\n",
    "    # Add the diagonal constraints\n",
    "    \n",
    "    # Check model \n",
    "    pass"
   ]
  },
  {
   "cell_type": "code",
   "execution_count": null,
   "id": "264645a0",
   "metadata": {},
   "outputs": [],
   "source": [
    "%%time\n",
    "display_nqueens(nqueens_sat(20))"
   ]
  },
  {
   "cell_type": "markdown",
   "id": "strange-condition",
   "metadata": {},
   "source": [
    "## Sudoku\n",
    "\n",
    "[Sudoku](https://en.wikipedia.org/wiki/Sudoku) is a logic-based, combinatorial number-placement puzzle. In classic sudoku, the objective is to fill a 9 × 9 grid with digits so that each column, each row, and each of the nine 3 × 3 subgrids that compose the grid contain all of the digits from 1 to 9. "
   ]
  },
  {
   "cell_type": "code",
   "execution_count": 6,
   "id": "charitable-branch",
   "metadata": {},
   "outputs": [],
   "source": [
    "# Sudoku instances, '0's correspond to empty cells\n",
    "\n",
    "instance1 = ((0, 0, 0, 0, 9, 4, 0, 3, 0),\n",
    "             (0, 0, 0, 5, 1, 0, 0, 0, 7),\n",
    "             (0, 8, 9, 0, 0, 0, 0, 4, 0),\n",
    "             (0, 0, 0, 0, 0, 0, 2, 0, 8),\n",
    "             (0, 6, 0, 2, 0, 1, 0, 5, 0),\n",
    "             (1, 0, 2, 0, 0, 0, 0, 0, 0),\n",
    "             (0, 7, 0, 0, 0, 0, 5, 2, 0),\n",
    "             (9, 0, 0, 0, 6, 5, 0, 0, 0),\n",
    "             (0, 4, 0, 9, 7, 0, 0, 0, 0))\n",
    "\n",
    "instance2 = ((0, 0, 0, 0, 9, 0, 1, 0, 0),\n",
    "             (2, 8, 0, 0, 0, 5, 0, 0, 0),\n",
    "             (7, 0, 0, 0, 0, 6, 4, 0, 0),\n",
    "             (8, 0, 5, 0, 0, 3, 0, 0, 6),\n",
    "             (0, 0, 1, 0, 0, 4, 0, 0, 0),\n",
    "             (0, 7, 0, 2, 0, 0, 0, 0, 0),\n",
    "             (3, 0, 0, 0, 0, 1, 0, 8, 0),\n",
    "             (0, 0, 0, 0, 0, 0, 0, 5, 0),\n",
    "             (0, 9, 0, 0, 0, 0, 0, 7, 0))\n",
    "\n",
    "instance3 = ((0, 7, 0, 0, 0, 0, 0, 4, 9),\n",
    "             (0, 0, 0, 4, 0, 0, 0, 0, 0),\n",
    "             (4, 0, 3, 5, 0, 7, 0, 0, 8),\n",
    "             (0, 0, 7, 2, 5, 0, 4, 0, 0),\n",
    "             (0, 0, 0, 0, 0, 0, 8, 0, 0),\n",
    "             (0, 0, 4, 0, 3, 0, 5, 9, 2),\n",
    "             (6, 1, 8, 0, 0, 0, 0, 0, 5),\n",
    "             (0, 9, 0, 1, 0, 0, 0, 3, 0),\n",
    "             (0, 0, 5, 0, 0, 0, 0, 0, 7))\n",
    "\n",
    "instance4 = ((0, 0, 0, 0, 0, 6, 0, 0, 0),\n",
    "             (0, 5, 9, 0, 0, 0, 0, 0, 8),\n",
    "             (2, 0, 0, 0, 0, 8, 0, 0, 0),\n",
    "             (0, 4, 5, 0, 0, 0, 0, 0, 0),\n",
    "             (0, 0, 3, 0, 0, 0, 0, 0, 0),\n",
    "             (0, 0, 6, 0, 0, 3, 0, 5, 4),\n",
    "             (0, 0, 0, 3, 2, 5, 0, 0, 6),\n",
    "             (0, 0, 0, 0, 0, 0, 0, 0, 0),\n",
    "             (0, 0, 0, 0, 0, 0, 0, 0, 0))"
   ]
  },
  {
   "cell_type": "code",
   "execution_count": 33,
   "id": "complete-single",
   "metadata": {},
   "outputs": [],
   "source": [
    "def sudoku_sat(instance):\n",
    "    # All the variables we need: for each cell, nine variables that determine which digit must be assigned.\n",
    "    grid = [[Int(f'cell_{r}_{c}') for c in range(9)] for r in range(9)]\n",
    "    s = Solver()\n",
    "\n",
    "    for r in range(9):\n",
    "        for c in range(9):\n",
    "            if instance[r][c] != 0:\n",
    "                s.add(grid[r][c] == instance[r][c])\n",
    "            else:\n",
    "                s.add(grid[r][c] >= 1)\n",
    "                s.add(grid[r][c] <= 9)\n",
    "    # A cell has only one value\n",
    "    \n",
    "    # Each value is used only once in a row\n",
    "    for r in range(9):\n",
    "        s.add(Distinct(grid[r]))\n",
    "    # Each value used exactly once in each column\n",
    "    for c in range(9):\n",
    "        s.add(Distinct([grid[r][c] for r in range(9)]))\n",
    "    # Each value used exactly once in each 3x3 grid.\n",
    "    for r in range(0,9,3):\n",
    "        for c in range(0,9,3):\n",
    "            s.add(Distinct(([grid[r+i][c+k] for i in range(3) for k in range(3)])))\n",
    "    # Some numbers are already available\n",
    "    if s.check() == sat:\n",
    "        m = s.model()\n",
    "        r = [ [ m.evaluate(grid[i][j]).as_long() for j in range(9) ]\n",
    "          for i in range(9) ]\n",
    "        return r\n",
    "    else:\n",
    "        print (\"failed to solve\")"
   ]
  },
  {
   "cell_type": "code",
   "execution_count": 34,
   "id": "42ba914c",
   "metadata": {},
   "outputs": [
    {
     "data": {
      "text/plain": "<Figure size 288x288 with 1 Axes>",
      "image/png": "[encoded data removed]"
     },
     "metadata": {
      "needs_background": "light"
     },
     "output_type": "display_data"
    }
   ],
   "source": [
    "# Select the instance you want to solve\n",
    "instance = instance4\n",
    "display_sudoku(instance)"
   ]
  },
  {
   "cell_type": "code",
   "execution_count": 35,
   "id": "6d7082ce",
   "metadata": {},
   "outputs": [
    {
     "data": {
      "text/plain": "<Figure size 288x288 with 1 Axes>",
      "image/png": "[encoded data removed]"
     },
     "metadata": {
      "needs_background": "light"
     },
     "output_type": "display_data"
    },
    {
     "name": "stdout",
     "output_type": "stream",
     "text": [
      "CPU times: total: 734 ms\n",
      "Wall time: 849 ms\n"
     ]
    }
   ],
   "source": [
    "%%time\n",
    "display_sudoku(sudoku_sat(instance))"
   ]
  },
  {
   "cell_type": "markdown",
   "id": "f0f3cc1f",
   "metadata": {},
   "source": [
    "## Nurse scheduling problem"
   ]
  },
  {
   "cell_type": "markdown",
   "id": "8cae047c",
   "metadata": {},
   "source": [
    "In the next example, called [nurse scheduling problem](https://en.wikipedia.org/wiki/Nurse_scheduling_problem), a hospital supervisor needs to create a schedule for $n$ nurses over a fixed day period, subject to the following conditions:\n",
    "\n",
    "- Each day is divided into three 8-hour shifts.\n",
    "- Every day, each shift is assigned to a single nurse, and no nurse works more than one shift.\n",
    "- Each nurse is assigned to a minimum amount of shifts during the given days period.\n"
   ]
  },
  {
   "cell_type": "code",
   "execution_count": null,
   "id": "268ff20e",
   "metadata": {},
   "outputs": [],
   "source": [
    "instance1 = {\n",
    "    \"num_nurses\" : 4,\n",
    "    \"num_shifts\" : 3,\n",
    "    \"num_days\" : 3\n",
    "}\n",
    "\n",
    "instance2 = {\n",
    "    \"num_nurses\" : 4,\n",
    "    \"num_shifts\" : 3,\n",
    "    \"num_days\" : 4\n",
    "}"
   ]
  },
  {
   "cell_type": "markdown",
   "id": "f03dee6d",
   "metadata": {},
   "source": [
    "### Advanced useful contraints"
   ]
  },
  {
   "cell_type": "code",
   "execution_count": null,
   "id": "f08178b7",
   "metadata": {},
   "outputs": [],
   "source": [
    "def at_least_k_np(bool_vars, k):\n",
    "    pass\n",
    "\n",
    "def at_most_k_np(bool_vars, k):\n",
    "    pass\n",
    "\n",
    "def exactly_k_np(bool_vars, k):\n",
    "    pass"
   ]
  },
  {
   "cell_type": "markdown",
   "id": "d6314be1",
   "metadata": {},
   "source": [
    "## Try it yourself!\n",
    "\n",
    "Try to model the variables and constraints to solve the nurse scheduling problem, starting from the examples listed above. \n",
    "\n",
    "If possible, shifts should be distributed evenly and fairly, so that each nurse works the minimum amount of them. If this is not possible, because the total number of shifts is not divisible by the number of nurses, some nurses will be assigned one more shift, without crossing the maximum number of shifts which can be worked by each nurse"
   ]
  },
  {
   "cell_type": "code",
   "execution_count": null,
   "id": "832e85c5",
   "metadata": {},
   "outputs": [],
   "source": [
    "def nurse_scheduling_sat(num_nurses, num_shifts, num_days):\n",
    "    # Create all the variables, shifts[i, j, k] is True if shift k is assigned to nurse i on day j.\n",
    "    \n",
    "    # In each shift can work just one nurse\n",
    "    \n",
    "    # Each nurse can work just one shift per day \n",
    "    \n",
    "    # Fair assignment of shifts\n",
    "    pass\n",
    "    "
   ]
  },
  {
   "cell_type": "code",
   "execution_count": null,
   "id": "9389f891",
   "metadata": {},
   "outputs": [],
   "source": [
    "instance = instance1"
   ]
  },
  {
   "cell_type": "code",
   "execution_count": null,
   "id": "e024d283",
   "metadata": {},
   "outputs": [],
   "source": [
    "%%time\n",
    "display_nurses_shifts(nurse_scheduling_sat(instance[\"num_nurses\"], instance[\"num_shifts\"], instance[\"num_days\"]), instance[\"num_nurses\"], instance[\"num_shifts\"], instance[\"num_days\"])"
   ]
  },
  {
   "cell_type": "code",
   "execution_count": null,
   "id": "34cd8381",
   "metadata": {},
   "outputs": [],
   "source": [
    "instance = instance2"
   ]
  },
  {
   "cell_type": "code",
   "execution_count": null,
   "id": "cf585eb8",
   "metadata": {},
   "outputs": [],
   "source": [
    "%%time\n",
    "display_nurses_shifts(nurse_scheduling_sat(instance[\"num_nurses\"], instance[\"num_shifts\"], instance[\"num_days\"]), instance[\"num_nurses\"], instance[\"num_shifts\"], instance[\"num_days\"])"
   ]
  }
 ],
 "metadata": {
  "kernelspec": {
   "display_name": "Python 3",
   "language": "python",
   "name": "python3"
  },
  "language_info": {
   "codemirror_mode": {
    "name": "ipython",
    "version": 3
   },
   "file_extension": ".py",
   "mimetype": "text/x-python",
   "name": "python",
   "nbconvert_exporter": "python",
   "pygments_lexer": "ipython3",
   "version": "3.8.8"
  }
 },
 "nbformat": 4,
 "nbformat_minor": 5
}
